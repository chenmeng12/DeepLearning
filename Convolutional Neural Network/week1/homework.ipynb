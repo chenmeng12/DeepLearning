{
 "cells": [
  {
   "cell_type": "code",
   "execution_count": 2,
   "metadata": {
    "collapsed": true,
    "pycharm": {
     "is_executing": false
    }
   },
   "outputs": [],
   "source": [
    "import numpy as np\n",
    "import h5py\n",
    "import matplotlib.pyplot as plt\n",
    "\n",
    "%matplotlib inline\n",
    "plt.rcParams['figure.figsize'] = (5.0, 4.0)\n",
    "plt.rcParams['image.interpolation'] = 'nearest'\n",
    "plt.rcParams['image.cmap'] = 'gray'\n",
    "\n",
    "%load_ext autoreload\n",
    "%autoreload 2\n",
    "\n",
    "np.random.seed(1)\n",
    "\n",
    "def zero_pad(X, pad):\n",
    "    \n",
    "    X_pad = np.pad(X,((0,0), (pad, pad), (pad, pad), (0,0)), 'constant')\n",
    "    \n",
    "    return X_pad"
   ]
  },
  {
   "cell_type": "code",
   "execution_count": 3,
   "outputs": [
    {
     "name": "stdout",
     "text": [
      "(4, 3, 3, 2)\n(4, 7, 7, 2)\n[[0.87638915 0.89460666]\n [0.08504421 0.03905478]\n [0.16983042 0.8781425 ]]\n[[0. 0.]\n [0. 0.]\n [0. 0.]\n [0. 0.]\n [0. 0.]\n [0. 0.]\n [0. 0.]]\n"
     ],
     "output_type": "stream"
    }
   ],
   "source": [
    "np.random.seed(1)\n",
    "x = np.random.rand(4, 3, 3, 2)\n",
    "x_pad = zero_pad(x, 2)\n",
    "print(x.shape)\n",
    "print(x_pad.shape)\n",
    "print(x[1,1])\n",
    "print(x_pad[1,1])\n"
   ],
   "metadata": {
    "collapsed": false,
    "pycharm": {
     "name": "#%%\n",
     "is_executing": false
    }
   }
  },
  {
   "cell_type": "code",
   "execution_count": 4,
   "outputs": [],
   "source": [
    "def conv_single_step(a_slice_prev, W, b):\n",
    "\n",
    "    s = a_slice_prev * W\n",
    "    Z = np.sum(s)\n",
    "    Z = Z + b\n",
    "    \n",
    "    return Z"
   ],
   "metadata": {
    "collapsed": false,
    "pycharm": {
     "name": "#%%\n",
     "is_executing": false
    }
   }
  },
  {
   "cell_type": "code",
   "execution_count": 5,
   "outputs": [
    {
     "name": "stdout",
     "text": [
      "[[[2.57809319]]]\n"
     ],
     "output_type": "stream"
    }
   ],
   "source": [
    "np.random.seed(1)\n",
    "a_slice_prev = np.random.rand(4, 4, 3)\n",
    "W = np.random.randn(4,4,3)\n",
    "b = np.random.randn(1,1,1)\n",
    "\n",
    "Z = conv_single_step(a_slice_prev, W, b)\n",
    "print(Z)"
   ],
   "metadata": {
    "collapsed": false,
    "pycharm": {
     "name": "#%%\n",
     "is_executing": false
    }
   }
  },
  {
   "cell_type": "code",
   "execution_count": 6,
   "outputs": [],
   "source": [
    "def conv_forward(A_prev, W, b, hparameters):\n",
    "    \n",
    "    (m, n_H_prev, n_W_prev, n_C_prev) = A_prev.shape\n",
    "    \n",
    "    (f, f, n_C_prev, n_C) = W.shape\n",
    "    \n",
    "    stride = hparameters['stride']\n",
    "    pad = hparameters['pad']\n",
    "    \n",
    "    n_H = int((n_H_prev - f + 2*pad) / stride + 1)\n",
    "    n_W = int((n_W_prev - f + 2*pad) / stride + 1)\n",
    "    \n",
    "    Z = np.zeros((m, n_H, n_W, n_C))\n",
    "    \n",
    "    A_prev_pad = zero_pad(A_prev, pad)\n",
    "    \n",
    "    for i in range(m):\n",
    "        a_prev_pad = A_prev_pad[i, :, :, :]\n",
    "        for h in range(n_H):\n",
    "            for w in range(n_W):\n",
    "                for c in range(n_C):\n",
    "                    \n",
    "                    vert_start = stride * h\n",
    "                    vert_end = vert_start + f\n",
    "                    horize_start = stride * w\n",
    "                    horize_end = horize_start + f\n",
    "                    \n",
    "                    a_slice_prev = a_prev_pad[vert_start:vert_end, horize_start:horize_end, :]\n",
    "                    \n",
    "                    Z[i, h, w, c] = conv_single_step(a_slice_prev, W[:, :, :, c], b[:, :, :, c])\n",
    "                    \n",
    "                    assert(Z.shape) == (m, n_H, n_W, n_C)\n",
    "                    \n",
    "                    cache = (A_prev, W, b, hparameters)\n",
    "                    \n",
    "                    return Z, cache\n",
    "            \n",
    "    "
   ],
   "metadata": {
    "collapsed": false,
    "pycharm": {
     "name": "#%%\n",
     "is_executing": false
    }
   }
  },
  {
   "cell_type": "code",
   "execution_count": 7,
   "outputs": [
    {
     "name": "stdout",
     "text": [
      "2.578093188905089\n[0. 0. 0. 0. 0. 0. 0. 0.]\n[0.62367221 0.75094243 0.34889834]\n"
     ],
     "output_type": "stream"
    }
   ],
   "source": [
    "np.random.seed(1)\n",
    "A_prev = np.random.rand(10, 4, 4, 3)\n",
    "W = np.random.randn(2, 2, 3, 8)\n",
    "b = np.random.randn(1,1,1,8)\n",
    "hparameters = {'pad':2,\n",
    "               'stride':2}\n",
    "\n",
    "z, cache = conv_forward(A_prev, W, b, hparameters)\n",
    "print(np.mean(Z))\n",
    "print(z[3,2,1])\n",
    "print(cache[0][1][2][3])"
   ],
   "metadata": {
    "collapsed": false,
    "pycharm": {
     "name": "#%%\n",
     "is_executing": false
    }
   }
  },
  {
   "cell_type": "code",
   "execution_count": 16,
   "outputs": [],
   "source": [
    "def pool_forward(A_prev, hparameters, mode='max'):\n",
    "\n",
    "    (m, n_H_prev, n_W_prev, n_C_prev) = A_prev.shape\n",
    "\n",
    "    f = hparameters['f']\n",
    "    stride = hparameters['stride']\n",
    "\n",
    "    n_H = int(1+(n_H_prev - f) / stride)\n",
    "    n_W = int(1+(n_W_prev - f) / stride)\n",
    "    n_C = n_C_prev\n",
    "\n",
    "    A = np.zeros((m, n_H, n_W, n_C))\n",
    "\n",
    "    for i in range(m):\n",
    "        for h in range(n_H):\n",
    "            for w in range(n_W):\n",
    "                for c in range(n_C):\n",
    "                    vert_start = h * stride\n",
    "                    vert_end = vert_start + f\n",
    "                    horiz_start = w * stride\n",
    "                    horiz_end = horiz_start + f\n",
    "\n",
    "                    a_prev_slice = A_prev[i, vert_start:vert_end, horiz_start:horiz_end, c]\n",
    "\n",
    "                    if mode == 'max':\n",
    "                        A[i, h, w, c] = np.max(a_prev_slice)\n",
    "                    if mode == 'average':\n",
    "                        A[i, h, w, c] = np.mean(a_prev_slice)\n",
    "\n",
    "    cache = (A_prev, hparameters)\n",
    "\n",
    "    assert(A.shape == (m, n_H, n_W, n_C))\n",
    "\n",
    "    return A, cache"
   ],
   "metadata": {
    "collapsed": false,
    "pycharm": {
     "name": "#%%\n",
     "is_executing": false
    }
   }
  },
  {
   "cell_type": "code",
   "execution_count": 17,
   "outputs": [],
   "source": [
    "\n",
    "# def pool_forward(A_prev, hparameters, mode = \"max\"):\n",
    "#     \"\"\"\n",
    "#     Implements the forward pass of the pooling layer\n",
    "# \n",
    "#     Arguments:\n",
    "#     A_prev -- Input data, numpy array of shape (m, n_H_prev, n_W_prev, n_C_prev)\n",
    "#     hparameters -- python dictionary containing \"f\" and \"stride\"\n",
    "#     mode -- the pooling mode you would like to use, defined as a string (\"max\" or \"average\")\n",
    "# \n",
    "#     Returns:\n",
    "#     A -- output of the pool layer, a numpy array of shape (m, n_H, n_W, n_C)\n",
    "#     cache -- cache used in the backward pass of the pooling layer, contains the input and hparameters \n",
    "#     \"\"\"\n",
    "# \n",
    "#     # Retrieve dimensions from the input shape\n",
    "#     (m, n_H_prev, n_W_prev, n_C_prev) = A_prev.shape\n",
    "# \n",
    "#     # Retrieve hyperparameters from \"hparameters\"\n",
    "#     f = hparameters[\"f\"]\n",
    "#     stride = hparameters[\"stride\"]\n",
    "# \n",
    "#     # Define the dimensions of the output\n",
    "#     n_H = int(1 + (n_H_prev - f) / stride)\n",
    "#     n_W = int(1 + (n_W_prev - f) / stride)\n",
    "#     n_C = n_C_prev\n",
    "# \n",
    "#     # Initialize output matrix A\n",
    "#     A = np.zeros((m, n_H, n_W, n_C))              \n",
    "# \n",
    "#     ### START CODE HERE ###\n",
    "#     for i in range(m):                         # loop over the training examples\n",
    "#         for h in range(n_H):                     # loop on the vertical axis of the output volume\n",
    "#             for w in range(n_W):                 # loop on the horizontal axis of the output volume\n",
    "#                 for c in range (n_C):            # loop over the channels of the output volume\n",
    "# \n",
    "#                     # Find the corners of the current \"slice\" (≈4 lines)\n",
    "#                     vert_start = h * stride\n",
    "#                     vert_end = vert_start + f\n",
    "#                     horiz_start = w * stride\n",
    "#                     horiz_end = horiz_start + f\n",
    "# \n",
    "#                     # Use the corners to define the current slice on the ith training example of A_prev, channel c. (≈1 line)\n",
    "#                     a_prev_slice = A_prev[i, vert_start:vert_end, horiz_start:horiz_end, c]\n",
    "# \n",
    "#                     # Compute the pooling operation on the slice. Use an if statment to differentiate the modes. Use np.max/np.mean.\n",
    "#                     if mode == \"max\":\n",
    "#                         A[i, h, w, c] = np.max(a_prev_slice)\n",
    "#                     elif mode == \"average\":\n",
    "#                         A[i, h, w, c] = np.mean(a_prev_slice)\n",
    "# \n",
    "#     ### END CODE HERE ###\n",
    "# \n",
    "#     # Store the input and hparameters in \"cache\" for pool_backward()\n",
    "#     cache = (A_prev, hparameters)\n",
    "# \n",
    "#     # Making sure your output shape is correct\n",
    "#     assert(A.shape == (m, n_H, n_W, n_C))\n",
    "# \n",
    "#     return A, cache\n"
   ],
   "metadata": {
    "collapsed": false,
    "pycharm": {
     "name": "#%%\n",
     "is_executing": false
    }
   }
  },
  {
   "cell_type": "code",
   "execution_count": 18,
   "outputs": [
    {
     "name": "stdout",
     "text": [
      "mode = max\nA = [[[[1.74481176 0.86540763 1.13376944]]]\n\n\n [[[1.13162939 1.51981682 2.18557541]]]]\n\nmode = average\nA = [[[[ 0.02105773 -0.20328806 -0.40389855]]]\n\n\n [[[-0.22154621  0.51716526  0.48155844]]]]\n"
     ],
     "output_type": "stream"
    }
   ],
   "source": [
    "np.random.seed(1)\n",
    "A_prev = np.random.randn(2, 4, 4, 3)\n",
    "hparameters = {\"stride\" : 2, \"f\": 3}\n",
    "\n",
    "A, cache = pool_forward(A_prev, hparameters)\n",
    "print(\"mode = max\")\n",
    "print(\"A =\", A)\n",
    "print()\n",
    "A, cache = pool_forward(A_prev, hparameters, mode = \"average\")\n",
    "print(\"mode = average\")\n",
    "print(\"A =\", A)\n"
   ],
   "metadata": {
    "collapsed": false,
    "pycharm": {
     "name": "#%%\n",
     "is_executing": false
    }
   }
  },
  {
   "cell_type": "code",
   "execution_count": null,
   "outputs": [],
   "source": [
    "\n"
   ],
   "metadata": {
    "collapsed": false,
    "pycharm": {
     "name": "#%%\n"
    }
   }
  }
 ],
 "metadata": {
  "language_info": {
   "codemirror_mode": {
    "name": "ipython",
    "version": 2
   },
   "file_extension": ".py",
   "mimetype": "text/x-python",
   "name": "python",
   "nbconvert_exporter": "python",
   "pygments_lexer": "ipython2",
   "version": "2.7.6"
  },
  "kernelspec": {
   "name": "python3",
   "language": "python",
   "display_name": "Python 3"
  },
  "pycharm": {
   "stem_cell": {
    "cell_type": "raw",
    "source": [],
    "metadata": {
     "collapsed": false
    }
   }
  }
 },
 "nbformat": 4,
 "nbformat_minor": 0
}