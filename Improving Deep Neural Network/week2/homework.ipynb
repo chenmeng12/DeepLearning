{
 "cells": [
  {
   "cell_type": "code",
   "execution_count": 3,
   "metadata": {
    "collapsed": true,
    "pycharm": {
     "is_executing": false
    }
   },
   "outputs": [],
   "source": [
    "import numpy as np\n",
    "import matplotlib.pyplot as plt\n",
    "import scipy.io\n",
    "import math\n",
    "import sklearn\n",
    "import sklearn.datasets\n",
    "\n",
    "from opt_utils import *\n",
    "from testCases import *\n",
    "\n",
    "%matplotlib inline\n",
    "plt.rcParams[\"figure.figsize\"] = (7.0, 4.0)\n",
    "plt.rcParams['image.interpolation'] = 'nearest'\n",
    "plt.rcParams['image.cmap'] = 'gray'"
   ]
  },
  {
   "cell_type": "code",
   "execution_count": 4,
   "outputs": [],
   "source": [
    "def update_parameters_with_gd(parameters, grads, learning_rate):\n",
    "    \"\"\"\n",
    "    \n",
    "    :param parameters:python dictionary containing your parameters to be updated \n",
    "    :param grads: python dictionary containing your gradients to update each parameters\n",
    "    :param learning_rate: learning_rate, scalar\n",
    "    :return: parameters\n",
    "    \"\"\"\n",
    "    L = len(parameters) // 2\n",
    "    \n",
    "    for l in range(L):\n",
    "        parameters[\"W\" + str(l)] = parameters[\"W\" + str(l+1)] - learning_rate*grads[\"dW\" + str(l+1)]\n",
    "        parameters['b' + str(l)] = parameters[\"b\" + str(l+1)] - learning_rate*grads[\"db\" + str(l+1)]\n",
    "    \n",
    "    return parameters        "
   ],
   "metadata": {
    "collapsed": false,
    "pycharm": {
     "name": "#%%\n",
     "is_executing": false
    }
   }
  },
  {
   "cell_type": "code",
   "execution_count": 5,
   "outputs": [
    {
     "data": {
      "text/plain": "{'W1': array([[ 0.32171798, -0.25467393,  1.46902454],\n        [-2.05617317, -0.31554548, -0.3756023 ],\n        [ 1.1404819 , -1.09976462, -0.1612551 ]]), 'b1': array([[-0.88020257],\n        [ 0.02561572],\n        [ 0.57539477]]), 'W2': array([[ 0.3190391 , -0.24937038,  1.46210794],\n        [-2.06014071, -0.3224172 , -0.38405435],\n        [ 1.13376944, -1.09989127, -0.17242821]]), 'b2': array([[-0.87785842],\n        [ 0.04221375],\n        [ 0.58281521]]), 'W0': array([[ 1.63535156, -0.62320365, -0.53718766],\n        [-1.07799357,  0.85639907, -2.29470142]]), 'b0': array([[ 1.74604067],\n        [-0.75184921]])}"
     },
     "metadata": {},
     "output_type": "execute_result",
     "execution_count": 5
    }
   ],
   "source": [
    "parameters ,grads, learning_rate = update_parameters_with_gd_test_case()\n",
    "parameters = update_parameters_with_gd(parameters, grads, learning_rate)\n",
    "parameters"
   ],
   "metadata": {
    "collapsed": false,
    "pycharm": {
     "name": "#%%\n",
     "is_executing": false
    }
   }
  },
  {
   "cell_type": "code",
   "execution_count": 36,
   "outputs": [],
   "source": [
    "def random_mini_batches(X, Y, mini_batch_size = 64, seed = 0):\n",
    "    np.random.seed(seed)\n",
    "    m = X.shape[1]\n",
    "    mini_batchs = []\n",
    "    \n",
    "    permutation = list(np.random.permutation(m))\n",
    "    shuffled_X = X[:, permutation]\n",
    "    shuffled_Y = Y[:, permutation].reshape((1, m))\n",
    "    \n",
    "    num_complete_minibatches = math.floor(m/mini_batch_size)\n",
    "    for k in range(0, num_complete_minibatches):\n",
    "        mini_batch_X = shuffled_X[:, k*mini_batch_size : (k+1)*mini_batch_size]\n",
    "        mini_batch_Y = shuffled_Y[:, k*mini_batch_size : (k+1)*mini_batch_size]\n",
    "        \n",
    "        mini_batch = (mini_batch_X, mini_batch_Y)\n",
    "        mini_batchs.append(mini_batch)\n",
    "        \n",
    "    if m % mini_batch_size != 0:\n",
    "        mini_batch_X = shuffled_X[:, num_complete_minibatches*mini_batch_size : m]\n",
    "        mini_batch_Y = shuffled_Y[:, num_complete_minibatches*mini_batch_size : m]\n",
    "            \n",
    "        mini_batch = (mini_batch_X, mini_batch_Y)\n",
    "        mini_batchs.append(mini_batch)\n",
    "            \n",
    "    return mini_batchs\n"
   ],
   "metadata": {
    "collapsed": false,
    "pycharm": {
     "name": "#%%\n",
     "is_executing": false
    }
   }
  },
  {
   "cell_type": "code",
   "execution_count": 37,
   "outputs": [
    {
     "data": {
      "text/plain": "[(array([[ 0.90085595, -0.7612069 ,  0.2344157 , ...,  0.12015895,\n           0.86888616, -0.60392063],\n         [ 2.52832571, -0.10015523, -0.61736206, ...,  0.60231928,\n          -0.18657899,  1.39984394],\n         [-0.13597733, -0.8805776 , -0.10679399, ..., -0.10999149,\n           0.80884436,  0.35016716],\n         ...,\n         [-0.43984921,  0.28742058, -0.6785365 , ...,  0.76544547,\n          -0.71181932,  0.1410268 ],\n         [-1.63271355,  0.07176604,  0.34552524, ..., -0.94969794,\n          -0.66824325, -1.22559617],\n         [-0.12821597,  0.19427479, -1.6059598 , ..., -2.34856141,\n          -2.08924821, -0.73948309]]),\n  array([[ True, False,  True,  True,  True, False,  True,  True,  True,\n          False,  True,  True,  True,  True,  True,  True,  True,  True,\n           True,  True, False, False, False,  True,  True,  True,  True,\n          False,  True,  True, False,  True,  True,  True,  True,  True,\n           True,  True, False,  True, False,  True,  True, False,  True,\n           True, False, False,  True, False, False, False,  True,  True,\n          False,  True,  True, False, False,  True, False, False,  True,\n           True]])),\n (array([[-0.38405435, -1.09491185,  0.40890054, ..., -1.39649634,\n          -1.19926803, -0.22232814],\n         [-0.99702683, -2.793085  ,  0.26246745, ..., -0.43495668,\n          -1.44087602, -0.7003985 ],\n         [-0.59980453, -1.30653407, -1.77756638, ...,  0.7278135 ,\n           2.0546241 ,  2.13782807],\n         ...,\n         [ 0.34791317, -0.19426569,  1.87155926, ..., -0.78180703,\n           0.56302246,  0.2564519 ],\n         [ 0.77090151,  0.26419577, -2.14193315, ...,  0.43071693,\n           1.78589994, -0.84248332],\n         [-1.86924757, -0.56255182,  0.74245719, ..., -0.09469001,\n           1.28673291, -0.98401223]]),\n  array([[ True,  True,  True,  True,  True,  True, False, False,  True,\n          False,  True,  True,  True,  True,  True,  True,  True,  True,\n           True, False,  True,  True,  True, False,  True, False,  True,\n          False, False,  True, False,  True, False,  True,  True,  True,\n           True,  True,  True,  True,  True,  True, False,  True,  True,\n           True,  True,  True,  True, False,  True, False,  True,  True,\n          False,  True,  True,  True, False,  True,  True, False,  True,\n           True]])),\n (array([[-1.31228341,  0.75041164,  0.16003707, ...,  1.51981682,\n          -1.61577235,  2.10025514],\n         [-0.37443832, -0.05682448,  1.6169496 , ...,  0.87583893,\n           1.20205486, -1.62743834],\n         [ 2.05635552,  1.78975468,  0.58464661, ...,  0.35249436,\n          -0.06065249,  0.32352735],\n         ...,\n         [-0.71856514, -1.23515063,  2.24485271, ...,  0.55252448,\n           0.77115261,  0.53397048],\n         [-0.85038144, -0.46241384, -2.01226166, ...,  1.72370955,\n           0.20415601,  0.28785222],\n         [ 1.60763531, -1.16869442,  1.42982698, ...,  0.63629591,\n          -1.17158634, -0.34992497]]),\n  array([[ True,  True,  True,  True,  True, False, False,  True,  True,\n           True,  True,  True,  True, False,  True, False,  True, False,\n           True,  True]]))]"
     },
     "metadata": {},
     "output_type": "execute_result",
     "execution_count": 37
    }
   ],
   "source": [
    "X_assess, Y_assess, mini_batch_size = random_mini_batches_test_case()\n",
    "mini_batches = random_mini_batches(X_assess, Y_assess, mini_batch_size)\n",
    "mini_batches"
   ],
   "metadata": {
    "collapsed": false,
    "pycharm": {
     "name": "#%%\n",
     "is_executing": false
    }
   }
  },
  {
   "cell_type": "code",
   "execution_count": null,
   "outputs": [],
   "source": [
    "\n"
   ],
   "metadata": {
    "collapsed": false,
    "pycharm": {
     "name": "#%%\n"
    }
   }
  }
 ],
 "metadata": {
  "language_info": {
   "codemirror_mode": {
    "name": "ipython",
    "version": 2
   },
   "file_extension": ".py",
   "mimetype": "text/x-python",
   "name": "python",
   "nbconvert_exporter": "python",
   "pygments_lexer": "ipython2",
   "version": "2.7.6"
  },
  "kernelspec": {
   "name": "python3",
   "language": "python",
   "display_name": "Python 3"
  },
  "pycharm": {
   "stem_cell": {
    "cell_type": "raw",
    "source": [],
    "metadata": {
     "collapsed": false
    }
   }
  }
 },
 "nbformat": 4,
 "nbformat_minor": 0
}