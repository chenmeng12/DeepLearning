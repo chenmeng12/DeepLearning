{
 "cells": [
  {
   "cell_type": "code",
   "execution_count": 2,
   "metadata": {
    "collapsed": true,
    "pycharm": {
     "is_executing": false
    }
   },
   "outputs": [],
   "source": [
    "import numpy as np\n",
    "from keras import layers\n",
    "from keras.layers import Input, Add, Dense, Activation, ZeroPadding2D, BatchNormalization, Flatten, Conv2D, \\\n",
    "    AveragePooling2D, MaxPool2D, GlobalAveragePooling2D\n",
    "from keras.models import Model, load_model\n",
    "from  keras.preprocessing import image\n",
    "from keras.utils import layer_utils\n",
    "from keras.utils.data_utils import get_file\n",
    "from keras_applications.imagenet_utils import preprocess_input\n",
    "import pydot\n",
    "from IPython.display import SVG\n",
    "from keras.utils.vis_utils import model_to_dot\n",
    "from keras.utils import plot_model\n",
    "from resnets_utils import *\n",
    "from keras.initializers import glorot_uniform\n",
    "import scipy.misc\n",
    "from matplotlib.pyplot import imshow\n",
    "%matplotlib inline\n",
    "\n",
    "import keras.backend as K\n",
    "K.set_image_data_format('channels_last')\n",
    "K.set_learning_phase(1)"
   ]
  },
  {
   "cell_type": "code",
   "execution_count": null,
   "outputs": [],
   "source": [
    "def identify_block(X, f, filters, stage, block):\n",
    "\tconv_name_base = 'res' + str(stage) + block + 'branch'\n",
    "\tbn_name_base = 'bn' + str(stage) + block + 'branch'\n",
    "\t\n",
    "\tF1, F2, F3 = filters\n",
    "\tX_shortcut = X\n",
    "\t\n",
    "\tX = Conv2D(filters=F1, kernel_size=(1,1), strides=(1,1),\n",
    "\t           padding='valid')\n",
    "\tX = BatchNormalization(axis=3, name=bn_name_base + '2a')(X)\n",
    "\tX = Activation('relu')(X)\n",
    "\t\n",
    "\tX = Conv2D(filters=F2, kernel_size=(f,f), strides=(1,1),\n",
    "\t           padding='valid')\n",
    "\tX = BatchNormalization(axis=3, name=bn_name_base+'2c')(X)\n",
    "\t\n",
    "\tX = Add()([X, X_shortcut])\n",
    "\tX = Activation('relu')(X)\n",
    "\t\n",
    "\treturn X"
   ],
   "metadata": {
    "collapsed": false,
    "pycharm": {
     "name": "#%%\n"
    }
   }
  }
 ],
 "metadata": {
  "language_info": {
   "codemirror_mode": {
    "name": "ipython",
    "version": 2
   },
   "file_extension": ".py",
   "mimetype": "text/x-python",
   "name": "python",
   "nbconvert_exporter": "python",
   "pygments_lexer": "ipython2",
   "version": "2.7.6"
  },
  "kernelspec": {
   "name": "python3",
   "language": "python",
   "display_name": "Python 3"
  },
  "pycharm": {
   "stem_cell": {
    "cell_type": "raw",
    "source": [],
    "metadata": {
     "collapsed": false
    }
   }
  }
 },
 "nbformat": 4,
 "nbformat_minor": 0
}