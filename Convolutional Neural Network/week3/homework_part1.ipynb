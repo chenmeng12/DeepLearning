{
 "cells": [
  {
   "cell_type": "code",
   "execution_count": 1,
   "metadata": {
    "collapsed": true,
    "pycharm": {
     "is_executing": false
    }
   },
   "outputs": [
    {
     "name": "stderr",
     "text": [
      "Using TensorFlow backend.\n"
     ],
     "output_type": "stream"
    }
   ],
   "source": [
    "import argparse\n",
    "import os\n",
    "import matplotlib.pyplot as plt\n",
    "from matplotlib.pyplot import imshow\n",
    "import scipy.io\n",
    "import scipy.misc\n",
    "import numpy as np\n",
    "import pandas as pd\n",
    "import PIL\n",
    "import tensorflow as tf\n",
    "from keras import backend as K\n",
    "from keras.layers import Input, Lambda, Conv2D\n",
    "from keras.models import load_model, Model\n",
    "\n",
    "from yad2k.models.keras_yolo import yolo_head, yolo_boxes_to_corners, preprocess_true_boxes, yolo_loss, yolo_body\n",
    "import yolo_utils"
   ]
  },
  {
   "cell_type": "code",
   "execution_count": 2,
   "outputs": [],
   "source": [
    "def yolo_filter_boxes(box_confidence, boxes, box_class_probs, threshold=.6):\n",
    "\t\"\"\"\n",
    "\tFilters YOLO boxes by thresholding on object and class confidence\n",
    "\t:param box_confidence: tensor of shape(19, 19, 5, 1)\n",
    "\t:param boxes: tensor of shape(19, 19, 5, 4)\n",
    "\t:param box_class_prob: tensor of shape(19,19,5,80)\n",
    "\t:param threshold: real value\n",
    "\t:return: \n",
    "\t\n",
    "\t\"\"\"\n",
    "\t#step1 compute box scores\n",
    "\tbox_scores = box_confidence * box_class_probs\n",
    "\t\n",
    "\t#step2: Find the box_classes thanks to to max box_scores, keep track of the corresponding score\n",
    "\tbox_classes = K.argmax(box_scores, axis=-1)\n",
    "\tbox_class_scores = K.max(box_scores, axis=-1, keepdims=False)\n",
    "\t\n",
    "\t#step3: Create a filter mask based on \"box_class_scores\" by using \"threshold\". The mask should\n",
    "\t# have the same dimension as box_class_scores, and be True for the boxex you want to keep\n",
    "\tfiltering_mask = box_class_scores >= threshold\n",
    "\t\n",
    "\t# Step4: Apply the mask to socres, boxes and classes\n",
    "\tscores = tf.boolean_mask(box_class_scores, filtering_mask)\n",
    "\tboxes = tf.boolean_mask(boxes, filtering_mask)\n",
    "\tclasses = tf.boolean_mask(box_classes, filtering_mask)\n",
    "\t\n",
    "\treturn scores, boxes, classes\n",
    "\t"
   ],
   "metadata": {
    "collapsed": false,
    "pycharm": {
     "name": "#%%\n",
     "is_executing": false
    }
   }
  },
  {
   "cell_type": "code",
   "execution_count": 7,
   "outputs": [
    {
     "name": "stdout",
     "text": [
      "10.750582\n[ 8.426533   3.2713668 -0.5313436 -4.9413733]\n7\n(?,)\n(?, 4)\n(?,)\n"
     ],
     "output_type": "stream"
    }
   ],
   "source": [
    "with tf.Session() as sess:\n",
    "\tbox_confidence = tf.random_normal([19,19,5,1], mean=1, stddev=4, seed=1)\n",
    "\tboxes = tf.random_normal([19,19,5,4], mean=1, stddev=4, seed=1)\n",
    "\tbox_class_probs = tf.random_normal([19,19,5,80], mean=1, stddev=4, seed=1)\n",
    "\tscores, boxes, classes = yolo_filter_boxes(box_confidence, boxes, box_class_probs,threshold=0.5)\n",
    "\tprint(str(scores[2].eval()))\n",
    "\tprint(str(boxes[2].eval()))\n",
    "\tprint(str(classes[2].eval()))\n",
    "\tprint(str(scores.shape))\n",
    "\tprint(str(boxes.shape))\n",
    "\tprint(str(classes.shape))\n",
    "\t\n",
    "\tsess.close()"
   ],
   "metadata": {
    "collapsed": false,
    "pycharm": {
     "name": "#%%\n",
     "is_executing": false
    }
   }
  },
  {
   "cell_type": "code",
   "execution_count": null,
   "outputs": [],
   "source": [
    "\n"
   ],
   "metadata": {
    "collapsed": false,
    "pycharm": {
     "name": "#%%\n"
    }
   }
  }
 ],
 "metadata": {
  "language_info": {
   "codemirror_mode": {
    "name": "ipython",
    "version": 2
   },
   "file_extension": ".py",
   "mimetype": "text/x-python",
   "name": "python",
   "nbconvert_exporter": "python",
   "pygments_lexer": "ipython2",
   "version": "2.7.6"
  },
  "kernelspec": {
   "name": "python3",
   "language": "python",
   "display_name": "Python 3"
  },
  "pycharm": {
   "stem_cell": {
    "cell_type": "raw",
    "source": [],
    "metadata": {
     "collapsed": false
    }
   }
  }
 },
 "nbformat": 4,
 "nbformat_minor": 0
}