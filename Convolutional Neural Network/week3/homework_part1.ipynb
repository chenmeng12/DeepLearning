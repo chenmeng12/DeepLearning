{
 "cells": [
  {
   "cell_type": "code",
   "execution_count": 2,
   "metadata": {
    "collapsed": true,
    "pycharm": {
     "is_executing": false
    }
   },
   "outputs": [
    {
     "name": "stderr",
     "text": [
      "Using TensorFlow backend.\n"
     ],
     "output_type": "stream"
    }
   ],
   "source": [
    "import argparse\n",
    "import os\n",
    "import matplotlib.pyplot as plt\n",
    "from matplotlib.pyplot import imshow\n",
    "import scipy.io\n",
    "import scipy.misc\n",
    "import numpy as np\n",
    "import pandas as pd\n",
    "import PIL\n",
    "import tensorflow as tf\n",
    "from keras import backend as K\n",
    "from keras.layers import Input, Lambda, Conv2D\n",
    "from keras.models import load_model, Model\n",
    "\n",
    "from yad2k.models.keras_yolo import yolo_head, yolo_boxes_to_corners, preprocess_true_boxes, yolo_loss, yolo_body\n",
    "import yolo_utils"
   ]
  },
  {
   "cell_type": "code",
   "execution_count": 3,
   "outputs": [],
   "source": [
    "def yolo_filter_boxes(box_confidence, boxes, box_class_probs, threshold=.6):\n",
    "\t\"\"\"\n",
    "\tFilters YOLO boxes by thresholding on object and class confidence\n",
    "\t:param box_confidence: tensor of shape(19, 19, 5, 1)\n",
    "\t:param boxes: tensor of shape(19, 19, 5, 4)\n",
    "\t:param box_class_prob: tensor of shape(19,19,5,80)\n",
    "\t:param threshold: real value\n",
    "\t:return: \n",
    "\t\n",
    "\t\"\"\"\n",
    "\t#step1 compute box scores\n",
    "\tbox_scores = box_confidence * box_class_probs\n",
    "\t\n",
    "\t#step2: Find the box_classes thanks to to max box_scores, keep track of the corresponding score\n",
    "\tbox_classes = K.argmax(box_scores, axis=-1)\n",
    "\tbox_class_scores = K.max(box_scores, axis=-1, keepdims=False)\n",
    "\t\n",
    "\t#step3: Create a filter mask based on \"box_class_scores\" by using \"threshold\". The mask should\n",
    "\t# have the same dimension as box_class_scores, and be True for the boxex you want to keep\n",
    "\tfiltering_mask = box_class_scores >= threshold\n",
    "\t\n",
    "\t# Step4: Apply the mask to socres, boxes and classes\n",
    "\tscores = tf.boolean_mask(box_class_scores, filtering_mask)\n",
    "\tboxes = tf.boolean_mask(boxes, filtering_mask)\n",
    "\tclasses = tf.boolean_mask(box_classes, filtering_mask)\n",
    "\t\n",
    "\treturn scores, boxes, classes\n",
    "\t"
   ],
   "metadata": {
    "collapsed": false,
    "pycharm": {
     "name": "#%%\n",
     "is_executing": false
    }
   }
  },
  {
   "cell_type": "code",
   "execution_count": 4,
   "outputs": [
    {
     "name": "stdout",
     "text": [
      "10.750582\n[ 8.426533   3.2713668 -0.5313436 -4.9413733]\n7\n(?,)\n(?, 4)\n(?,)\n"
     ],
     "output_type": "stream"
    }
   ],
   "source": [
    "with tf.Session() as sess:\n",
    "\tbox_confidence = tf.random_normal([19,19,5,1], mean=1, stddev=4, seed=1)\n",
    "\tboxes = tf.random_normal([19,19,5,4], mean=1, stddev=4, seed=1)\n",
    "\tbox_class_probs = tf.random_normal([19,19,5,80], mean=1, stddev=4, seed=1)\n",
    "\tscores, boxes, classes = yolo_filter_boxes(box_confidence, boxes, box_class_probs,threshold=0.5)\n",
    "\tprint(str(scores[2].eval()))\n",
    "\tprint(str(boxes[2].eval()))\n",
    "\tprint(str(classes[2].eval()))\n",
    "\tprint(str(scores.shape))\n",
    "\tprint(str(boxes.shape))\n",
    "\tprint(str(classes.shape))\n",
    "\t\n",
    "\tsess.close()"
   ],
   "metadata": {
    "collapsed": false,
    "pycharm": {
     "name": "#%%\n",
     "is_executing": false
    }
   }
  },
  {
   "cell_type": "code",
   "execution_count": 14,
   "outputs": [],
   "source": [
    "def iou(box1, box2):\n",
    "\t\"\"\"\n",
    "\tcomput iou\n",
    "\t:param box1: tuple, first box,(x1, y1, x2, y2)\n",
    "\t:param box2: tuple, second box, (x1, y1, x2, y2)\n",
    "\t:return: iou float\n",
    "\t\"\"\"\n",
    "\t#step1: calculate the (y1, x1,y2,x2),inter_area\n",
    "\txi1 = max(box1[0], box2[0])\n",
    "\tyi1 = max(box1[1], box2[1])\n",
    "\txi2 = min(box1[2], box2[2])\n",
    "\tyi2 = min(box1[3], box2[3])\n",
    "\tinter_area = (yi2-yi1) * (xi2-xi1)\n",
    "\t\n",
    "\t#step2: Calculate the Union area by using Formula: Union(A,B)=A+B-Inter(A,B)\n",
    "\tbox1_area = (box1[3]-box1[1]) * (box1[2]-box1[0])\n",
    "\tbox2_area = (box2[3]-box2[1]) * (box2[2]-box2[0])\n",
    "\tunion_area = box1_area + box2_area - inter_area\n",
    "\t\n",
    "\t#step3: Calculate the IoU\n",
    "\tiou = inter_area / union_area\n",
    "\t\n",
    "\treturn iou"
   ],
   "metadata": {
    "collapsed": false,
    "pycharm": {
     "name": "#%%\n",
     "is_executing": false
    }
   }
  },
  {
   "cell_type": "code",
   "execution_count": 15,
   "outputs": [
    {
     "name": "stdout",
     "text": [
      "iou=0.14285714285714285\n"
     ],
     "output_type": "stream"
    }
   ],
   "source": [
    "box1 = (2,1,4,3)\n",
    "box2 = (1,2,3,4)\n",
    "print('iou='+str(iou(box1, box2)))\n",
    "\n"
   ],
   "metadata": {
    "collapsed": false,
    "pycharm": {
     "name": "#%%\n",
     "is_executing": false
    }
   }
  },
  {
   "cell_type": "code",
   "execution_count": 16,
   "outputs": [],
   "source": [
    "def yolo_non_max_suppression(scores, boxes, classes, max_boxes=10, iou_threshold=0.5):\n",
    "\t\"\"\"\n",
    "\tApplies Non-max suppression to set of boxes\n",
    "\t:param scores: tensor of shape(None,) output of yolo_fileter_boxes()\n",
    "\t:param boxes: tensor of shape(None,) output of yolo_fileter_boxes() that have been scaled\n",
    "\tto the image size\n",
    "\t:param classes: tensor of shape(None,),output of yolo_filter_boxes()\n",
    "\t:param max_boxes: integer, maximum number of predict boxes you`d like\n",
    "\t:param iou_threshold: real_value, \"intersection over union\" threshold for NMS filtering\n",
    "\t:return: \n",
    "\tscores:tensor of shape(,None), predicted score for each box\n",
    "\tboxes:tensor of shape(,None), predicted box coordinates\n",
    "\tclasses:tensor of shape(,None), predicted class for each box\n",
    "\t\"\"\"\n",
    "\tmax_boxes_tensor = K.variable(max_boxes, dtype='int32')\n",
    "\tK.get_session().run(tf.variables_initializer([max_boxes_tensor]))\n",
    "\t\n",
    "\t#Use tf.image.non_max_suppression() to get the list of indices corresponding to boxes you keep\n",
    "\tnms_indices = tf.image.non_max_suppression(boxes, scores, max_boxes, iou_threshold)\n",
    "\t\n",
    "\t#Use K.gather() to select only nms_indices from scores, boxes and calsses\n",
    "\tscores = K.gather(scores, nms_indices)\n",
    "\tboxes = K.gather(boxes, nms_indices)\n",
    "\tclasses = K.gather(classes, nms_indices)\n",
    "\t\n",
    "\treturn scores, boxes, classes\n",
    "\t"
   ],
   "metadata": {
    "collapsed": false,
    "pycharm": {
     "name": "#%%\n",
     "is_executing": false
    }
   }
  },
  {
   "cell_type": "code",
   "execution_count": 17,
   "outputs": [
    {
     "name": "stdout",
     "text": [
      "WARNING:tensorflow:From C:\\APP\\Anaconda3\\lib\\site-packages\\tensorflow\\python\\framework\\op_def_library.py:263: colocate_with (from tensorflow.python.framework.ops) is deprecated and will be removed in a future version.\nInstructions for updating:\nColocations handled automatically by placer.\n",
      "6.938395\n[-5.299932    3.1379814   4.450367    0.95942086]\n-2.2452729\n(10,)\n(10, 4)\n(10,)\n"
     ],
     "output_type": "stream"
    }
   ],
   "source": [
    "with tf.Session() as test_b:\n",
    "\tscores = tf.random_normal([54,], mean=1, stddev=4, seed=1)\n",
    "\tboxes = tf.random_normal([54,4], mean=1, stddev=4, seed=1)\n",
    "\tclasses = tf.random_normal([54,], mean=1, stddev=4, seed=1)\n",
    "\tscores, boxes, classes = yolo_non_max_suppression(scores, boxes, classes)\n",
    "\tprint(str(scores[2].eval()))\n",
    "\tprint(str(boxes[2].eval()))\n",
    "\tprint(str(classes[2].eval()))\n",
    "\tprint(str(scores.eval().shape))\n",
    "\tprint(str(boxes.eval().shape))\n",
    "\tprint(str(classes.eval().shape))"
   ],
   "metadata": {
    "collapsed": false,
    "pycharm": {
     "name": "#%%\n",
     "is_executing": false
    }
   }
  },
  {
   "cell_type": "code",
   "execution_count": null,
   "outputs": [],
   "source": [
    "\n"
   ],
   "metadata": {
    "collapsed": false,
    "pycharm": {
     "name": "#%%\n"
    }
   }
  }
 ],
 "metadata": {
  "language_info": {
   "codemirror_mode": {
    "name": "ipython",
    "version": 2
   },
   "file_extension": ".py",
   "mimetype": "text/x-python",
   "name": "python",
   "nbconvert_exporter": "python",
   "pygments_lexer": "ipython2",
   "version": "2.7.6"
  },
  "kernelspec": {
   "name": "python3",
   "language": "python",
   "display_name": "Python 3"
  },
  "pycharm": {
   "stem_cell": {
    "cell_type": "raw",
    "source": [],
    "metadata": {
     "collapsed": false
    }
   }
  }
 },
 "nbformat": 4,
 "nbformat_minor": 0
}