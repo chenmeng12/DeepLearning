{
 "cells": [
  {
   "cell_type": "code",
   "execution_count": 2,
   "metadata": {
    "pycharm": {
     "is_executing": false
    }
   },
   "outputs": [
    {
     "name": "stderr",
     "text": [
      "Using TensorFlow backend.\n"
     ],
     "output_type": "stream"
    }
   ],
   "source": [
    "import numpy as np\n",
    "from keras import layers\n",
    "from keras.layers import Input, Add, Dense, Activation, ZeroPadding2D, BatchNormalization, Flatten, Conv2D, \\\n",
    "    AveragePooling2D, MaxPool2D, GlobalAveragePooling2D\n",
    "from keras.models import Model, load_model\n",
    "from  keras.preprocessing import image\n",
    "from keras.utils import layer_utils\n",
    "from keras.utils.data_utils import get_file\n",
    "from keras_applications.imagenet_utils import preprocess_input\n",
    "import pydot\n",
    "from IPython.display import SVG\n",
    "from keras.utils.vis_utils import model_to_dot\n",
    "from keras.utils import plot_model\n",
    "from resnets_utils import *\n",
    "from keras.initializers import glorot_uniform\n",
    "import scipy.misc\n",
    "from matplotlib.pyplot import imshow\n",
    "%matplotlib inline\n",
    "\n",
    "import keras.backend as K\n",
    "K.set_image_data_format('channels_last')\n",
    "K.set_learning_phase(1)"
   ]
  },
  {
   "cell_type": "code",
   "execution_count": 3,
   "metadata": {
    "pycharm": {
     "is_executing": false,
     "name": "#%%\n"
    }
   },
   "outputs": [],
   "source": [
    "def identify_block(X, f, filters, stage, block):\n",
    "\t\n",
    "    #Define name basis\n",
    "\tconv_name_base = 'res' + str(stage) + block + 'branch'\n",
    "\tbn_name_base = 'bn' + str(stage) + block + 'branch'\n",
    "\t\n",
    "    #Retrieve Fileters\n",
    "\tF1, F2, F3 = filters\n",
    "\t\n",
    "    #Save input value\n",
    "\tX_shortcut = X\n",
    "\t\n",
    "    #First component of main path\n",
    "\tX = Conv2D(filters=F1, kernel_size=(1,1), strides=(1,1), padding='valid', name=conv_name_base+'2a', \n",
    "               kernel_initializer=glorot_uniform(seed=0))(X)\n",
    "\tX = BatchNormalization(axis=3, name=bn_name_base + '2a')(X)\n",
    "\tX = Activation('relu')(X)\n",
    "\t\n",
    "    #Second component of main path\n",
    "\tX = Conv2D(filters=F2, kernel_size=(f,f), strides=(1,1), padding='same', name=conv_name_base+'2b', \n",
    "\t           kernel_initializer=glorot_uniform(seed=0))(X)\n",
    "\tX = BatchNormalization(axis=3, name=bn_name_base+'2b')(X)\n",
    "\tX = Activation('relu')(X)\n",
    "\t\n",
    "    #Third component of main path\n",
    "\tX = Conv2D(filters=F3, kernel_size=(1,1), strides=(1,1), padding='valid', name=conv_name_base+'2c',\n",
    "\t           kernel_initializer=glorot_uniform(seed=0))(X)\n",
    "\tX = BatchNormalization(axis=3, name=bn_name_base+'2c')(X)\n",
    "\t\n",
    "    #Final Step: Add shortcut value to main path, and passs it through a RELU activation\n",
    "\tX = Add()([X, X_shortcut])\n",
    "\tX = Activation('relu')(X)\n",
    "\t\n",
    "\treturn X"
   ]
  },
  {
   "cell_type": "code",
   "execution_count": 4,
   "metadata": {
    "pycharm": {
     "is_executing": false,
     "name": "#%%\n"
    }
   },
   "outputs": [
    {
     "name": "stdout",
     "text": [
      "WARNING:tensorflow:From C:\\APP\\Anaconda3\\lib\\site-packages\\tensorflow\\python\\framework\\op_def_library.py:263: colocate_with (from tensorflow.python.framework.ops) is deprecated and will be removed in a future version.\nInstructions for updating:\nColocations handled automatically by placer.\n",
      "[ 0.1971682 -0.         1.3561226  2.1713073 -0.         1.3324987]\n"
     ],
     "output_type": "stream"
    }
   ],
   "source": [
    "tf.reset_default_graph()\n",
    "\n",
    "with tf.Session() as test:\n",
    "\tnp.random.seed(1)\n",
    "\tA_prev = tf.placeholder('float', [3, 4, 4, 6])\n",
    "\tX = np.random.randn(3,4,4,6)\n",
    "\tA = identify_block(A_prev, f=2, filters=[2,4,6], stage=1, block='a')\n",
    "\ttest.run(tf.global_variables_initializer())\n",
    "\tout = test.run([A], feed_dict={A_prev:X, K.learning_phase():0})\n",
    "\tprint(str(out[0][1][1][0]))"
   ]
  },
  {
   "cell_type": "code",
   "execution_count": 23,
   "metadata": {
    "pycharm": {
     "is_executing": false,
     "name": "#%%\n"
    }
   },
   "outputs": [],
   "source": [
    "def convolutional_block(X, f, filters, stage, block, s=2):\n",
    "    \n",
    "\t#define name basis\n",
    "\tconv_name_base = 'res' + str(stage) + block + '_branch'\n",
    "\tbn_name_base = 'bn' + str(stage) + block + '_branch'\n",
    "\t\n",
    "    #Retrieve Fileters\n",
    "\tF1, F2, F3 = filters\n",
    "\t\n",
    "    #Save input value\n",
    "\tX_shortcut = X\n",
    "\t########## MAIN PATH ###############\n",
    "\t#First component of main path\n",
    "\tX = Conv2D(F1, (1,1), strides=(s,s), name=conv_name_base+'2a', \n",
    "\t           kernel_initializer=glorot_uniform(seed=0))(X)\n",
    "\tX = BatchNormalization(axis=3, name=bn_name_base+'2a')(X)\n",
    "\tX = Activation('relu')(X)\n",
    "\t\n",
    "    #Second component of main path\n",
    "\tX = Conv2D(F2, (f,f), strides=(1,1), name=conv_name_base+'2b',\n",
    "\t           kernel_initializer=glorot_uniform(seed=0))(X)\n",
    "\tX = BatchNormalization(axis=3, name=bn_name_base+'2b')(X)\n",
    "\tX = Activation('relu')(X)\n",
    "\n",
    "\t\n",
    "    #Third component of main path\n",
    "\tX = Conv2D(F3, (1,1), strides=(1,1), name=conv_name_base+'2c',\n",
    "\t           kernel_initializer=glorot_uniform(seed=0))(X)\n",
    "\tX = BatchNormalization(axis=3, name=bn_name_base+'2c')(X)\n",
    "\t\n",
    "    #Shortcut Path\n",
    "\tX_shortcut = Conv2D(F3, (1,1), strides=(s,s), name=conv_name_base+'1',\n",
    "\t                    kernel_initializer=glorot_uniform(seed=0))(X_shortcut)\n",
    "\tX_shortcut = BatchNormalization(axis=3, name=bn_name_base+'1')(X_shortcut)\n",
    "    \n",
    "    #Final step: Add shortcut value to main path, and pass it through a RELU activation\n",
    "\t\n",
    "\tX = Add()([X, X_shortcut])\n",
    "\tX = Activation('relu')(X)\n",
    "\t\n",
    "\treturn X\n",
    "\t"
   ]
  },
  {
   "cell_type": "code",
   "execution_count": 24,
   "metadata": {
    "pycharm": {
     "is_executing": false,
     "name": "#%%\n"
    }
   },
   "outputs": [
    {
     "name": "stdout",
     "text": [
      "[0.50418824 1.3419094  1.1175836  0.25036487 1.1973622  0.6871328 ]\n"
     ],
     "output_type": "stream"
    }
   ],
   "source": [
    "tf.reset_default_graph()\n",
    "\n",
    "with tf.Session() as test:\n",
    "\t\n",
    "\tnp.random.seed(1)\n",
    "\tA_prev = tf.placeholder('float', [3,4,4,6])\n",
    "\tX = np.random.randn(3,4,4,6)\n",
    "\tA = convolutional_block(A_prev, f=2, filters=[2,4,6], stage=1, block='a')\n",
    "\ttest.run(tf.global_variables_initializer())\n",
    "\tout = test.run([A], feed_dict={A_prev:X, K.learning_phase():0})\n",
    "\tprint(str(out[0][1][1][0]))"
   ]
  },
  {
   "cell_type": "code",
   "execution_count": 27,
   "metadata": {
    "pycharm": {
     "is_executing": false,
     "name": "#%%\n"
    }
   },
   "outputs": [],
   "source": [
    "def ResNet50(input_shape=(64,64,3), classes=6):\n",
    "\t\n",
    "\t#Define the input as tensor with shape input_shape\n",
    "\tX_input = Input(input_shape)\n",
    "\t\n",
    "\t#Zero_padding\n",
    "\tX = ZeroPadding2D((3,3))(X_input)\n",
    "\t\n",
    "\t#Stage 1\n",
    "\tX = Conv2D(filters=64, kernel_size=(7,7), strides=(2,2), name='conv1', kernel_initializer=glorot_uniform(seed=0))(X)\n",
    "\tX = BatchNormalization(axis=3, name='bn_conv1')(X)\n",
    "\tX = Activation('relu')(X)\n",
    "\tX = MaxPool2D((3,3), strides=(2,2))(X)\n",
    "\t\n",
    "\t#Stage 2\n",
    "\tX = convolutional_block(X, f=3, filters=[64,64,256], stage=2, block='a', s=1)\n",
    "\tX = identify_block(X, 3, [64,64,256], stage=2, block='b')\n",
    "\tX = identify_block(X, 3, [64, 64, 256], stage=2, block='c')\n",
    "\t\n",
    "\t#Stage 3\n",
    "\tX = convolutional_block(X, f=3, filters=[128,128,512], stage=3, block='a', s=2)\n",
    "\tX = identify_block(X, 3,[128,128,512], 3, 'b')\n",
    "\tX = identify_block(X, 3,[128,128,512], 3, 'c')\n",
    "\tX = identify_block(X, 3,[128,128,512], 3, 'd')\n",
    "\t\n",
    "\t#Stage 4\n",
    "\tX = convolutional_block(X, f=3, filters=[256,256,1024], stage=4, block='a', s=2)\n",
    "\tX = identify_block(X, 3,[256,256,1024], 4, 'b')\n",
    "\tX = identify_block(X, 3,[256,256,1024], 4, 'c')\n",
    "\tX = identify_block(X, 3,[256,256,1024], 4, 'd')\n",
    "\tX = identify_block(X, 3,[256,256,1024], 4, 'e')\n",
    "\tX = identify_block(X, 3,[256,256,1024], 4, 'f')\n",
    "\t\n",
    "\t#Stage 5\n",
    "\tX = convolutional_block(X, f=3, filters=[512,512,2048], stage=5, block='a', s=2)\n",
    "\tX = identify_block(X, f=3, filters=[512,512,2048], stage=5, block='b')\n",
    "\tX = identify_block(X, f=3, filters=[512,512,2048], stage=5, block='c')\n",
    "\t\n",
    "\t#AVGPOOL\n",
    "\tX = AveragePooling2D((2,2), name='avg_pool')(X)\n",
    "\t\n",
    "\t#Output layer\n",
    "\tX = Flatten()(X)\n",
    "\tX = Dense(classes, activation='softmax', name='fc'+str(classes),kernel_initializer=glorot_uniform(seed=0))(X)\n",
    "\t\n",
    "\t#Create model\n",
    "\tmodel = Model(input_shape=X_input, outputs=X, name='ResNet50')\n",
    "\t\n",
    "\treturn model"
   ]
  },
  {
   "cell_type": "code",
   "execution_count": 28,
   "metadata": {
    "pycharm": {
     "is_executing": false,
     "name": "#%%\n"
    }
   },
   "outputs": [
    {
     "traceback": [
      "\u001b[1;31m---------------------------------------------------------------------------\u001b[0m",
      "\u001b[1;31mValueError\u001b[0m                                Traceback (most recent call last)",
      "\u001b[1;32m<ipython-input-28-c469eab8cb2f>\u001b[0m in \u001b[0;36m<module>\u001b[1;34m\u001b[0m\n\u001b[0;32m      1\u001b[0m \u001b[1;33m\u001b[0m\u001b[0m\n\u001b[1;32m----> 2\u001b[1;33m \u001b[0mmodel\u001b[0m \u001b[1;33m=\u001b[0m \u001b[0mResNet50\u001b[0m\u001b[1;33m(\u001b[0m\u001b[0minput_shape\u001b[0m\u001b[1;33m=\u001b[0m\u001b[1;33m(\u001b[0m\u001b[1;36m64\u001b[0m\u001b[1;33m,\u001b[0m\u001b[1;36m64\u001b[0m\u001b[1;33m,\u001b[0m\u001b[1;36m3\u001b[0m\u001b[1;33m)\u001b[0m\u001b[1;33m,\u001b[0m \u001b[0mclasses\u001b[0m\u001b[1;33m=\u001b[0m\u001b[1;36m6\u001b[0m\u001b[1;33m)\u001b[0m\u001b[1;33m\u001b[0m\u001b[1;33m\u001b[0m\u001b[0m\n\u001b[0m\u001b[0;32m      3\u001b[0m \u001b[0mmodel\u001b[0m\u001b[1;33m.\u001b[0m\u001b[0mcompile\u001b[0m\u001b[1;33m(\u001b[0m\u001b[0moptimizer\u001b[0m\u001b[1;33m=\u001b[0m\u001b[1;34m'adam'\u001b[0m\u001b[1;33m,\u001b[0m \u001b[0mloss\u001b[0m\u001b[1;33m=\u001b[0m\u001b[1;34m'categorical_crossentropy'\u001b[0m\u001b[1;33m,\u001b[0m \u001b[0mmetircs\u001b[0m\u001b[1;33m=\u001b[0m\u001b[1;33m[\u001b[0m\u001b[1;34m'accuracy'\u001b[0m\u001b[1;33m]\u001b[0m\u001b[1;33m)\u001b[0m\u001b[1;33m\u001b[0m\u001b[1;33m\u001b[0m\u001b[0m\n\u001b[0;32m      4\u001b[0m \u001b[1;33m\u001b[0m\u001b[0m\n",
      "\u001b[1;32m<ipython-input-27-c8eb4c6903fc>\u001b[0m in \u001b[0;36mResNet50\u001b[1;34m(input_shape, classes)\u001b[0m\n\u001b[0;32m     20\u001b[0m \u001b[1;33m\u001b[0m\u001b[0m\n\u001b[0;32m     21\u001b[0m         \u001b[1;31m#Stage 3\u001b[0m\u001b[1;33m\u001b[0m\u001b[1;33m\u001b[0m\u001b[1;33m\u001b[0m\u001b[0m\n\u001b[1;32m---> 22\u001b[1;33m         \u001b[0mX\u001b[0m \u001b[1;33m=\u001b[0m \u001b[0mconvolutional_block\u001b[0m\u001b[1;33m(\u001b[0m\u001b[0mX\u001b[0m\u001b[1;33m,\u001b[0m \u001b[0mf\u001b[0m\u001b[1;33m=\u001b[0m\u001b[1;36m3\u001b[0m\u001b[1;33m,\u001b[0m \u001b[0mfilters\u001b[0m\u001b[1;33m=\u001b[0m\u001b[1;33m[\u001b[0m\u001b[1;36m128\u001b[0m\u001b[1;33m,\u001b[0m\u001b[1;36m128\u001b[0m\u001b[1;33m,\u001b[0m\u001b[1;36m512\u001b[0m\u001b[1;33m]\u001b[0m\u001b[1;33m,\u001b[0m \u001b[0mstage\u001b[0m\u001b[1;33m=\u001b[0m\u001b[1;36m3\u001b[0m\u001b[1;33m,\u001b[0m \u001b[0mblock\u001b[0m\u001b[1;33m=\u001b[0m\u001b[1;34m'a'\u001b[0m\u001b[1;33m,\u001b[0m \u001b[0ms\u001b[0m\u001b[1;33m=\u001b[0m\u001b[1;36m2\u001b[0m\u001b[1;33m)\u001b[0m\u001b[1;33m\u001b[0m\u001b[1;33m\u001b[0m\u001b[0m\n\u001b[0m\u001b[0;32m     23\u001b[0m         \u001b[0mX\u001b[0m \u001b[1;33m=\u001b[0m \u001b[0midentify_block\u001b[0m\u001b[1;33m(\u001b[0m\u001b[0mX\u001b[0m\u001b[1;33m,\u001b[0m \u001b[1;36m3\u001b[0m\u001b[1;33m,\u001b[0m\u001b[1;33m[\u001b[0m\u001b[1;36m128\u001b[0m\u001b[1;33m,\u001b[0m\u001b[1;36m128\u001b[0m\u001b[1;33m,\u001b[0m\u001b[1;36m512\u001b[0m\u001b[1;33m]\u001b[0m\u001b[1;33m,\u001b[0m \u001b[1;36m3\u001b[0m\u001b[1;33m,\u001b[0m \u001b[1;34m'b'\u001b[0m\u001b[1;33m)\u001b[0m\u001b[1;33m\u001b[0m\u001b[1;33m\u001b[0m\u001b[0m\n\u001b[0;32m     24\u001b[0m         \u001b[0mX\u001b[0m \u001b[1;33m=\u001b[0m \u001b[0midentify_block\u001b[0m\u001b[1;33m(\u001b[0m\u001b[0mX\u001b[0m\u001b[1;33m,\u001b[0m \u001b[1;36m3\u001b[0m\u001b[1;33m,\u001b[0m\u001b[1;33m[\u001b[0m\u001b[1;36m128\u001b[0m\u001b[1;33m,\u001b[0m\u001b[1;36m128\u001b[0m\u001b[1;33m,\u001b[0m\u001b[1;36m512\u001b[0m\u001b[1;33m]\u001b[0m\u001b[1;33m,\u001b[0m \u001b[1;36m3\u001b[0m\u001b[1;33m,\u001b[0m \u001b[1;34m'c'\u001b[0m\u001b[1;33m)\u001b[0m\u001b[1;33m\u001b[0m\u001b[1;33m\u001b[0m\u001b[0m\n",
      "\u001b[1;32m<ipython-input-23-87970d7bb278>\u001b[0m in \u001b[0;36mconvolutional_block\u001b[1;34m(X, f, filters, stage, block, s)\u001b[0m\n\u001b[0;32m     37\u001b[0m     \u001b[1;31m#Final step: Add shortcut value to main path, and pass it through a RELU activation\u001b[0m\u001b[1;33m\u001b[0m\u001b[1;33m\u001b[0m\u001b[1;33m\u001b[0m\u001b[0m\n\u001b[0;32m     38\u001b[0m \u001b[1;33m\u001b[0m\u001b[0m\n\u001b[1;32m---> 39\u001b[1;33m         \u001b[0mX\u001b[0m \u001b[1;33m=\u001b[0m \u001b[0mAdd\u001b[0m\u001b[1;33m(\u001b[0m\u001b[1;33m)\u001b[0m\u001b[1;33m(\u001b[0m\u001b[1;33m[\u001b[0m\u001b[0mX\u001b[0m\u001b[1;33m,\u001b[0m \u001b[0mX_shortcut\u001b[0m\u001b[1;33m]\u001b[0m\u001b[1;33m)\u001b[0m\u001b[1;33m\u001b[0m\u001b[1;33m\u001b[0m\u001b[0m\n\u001b[0m\u001b[0;32m     40\u001b[0m         \u001b[0mX\u001b[0m \u001b[1;33m=\u001b[0m \u001b[0mActivation\u001b[0m\u001b[1;33m(\u001b[0m\u001b[1;34m'relu'\u001b[0m\u001b[1;33m)\u001b[0m\u001b[1;33m(\u001b[0m\u001b[0mX\u001b[0m\u001b[1;33m)\u001b[0m\u001b[1;33m\u001b[0m\u001b[1;33m\u001b[0m\u001b[0m\n\u001b[0;32m     41\u001b[0m \u001b[1;33m\u001b[0m\u001b[0m\n",
      "\u001b[1;32mC:\\APP\\Anaconda3\\lib\\site-packages\\keras\\engine\\base_layer.py\u001b[0m in \u001b[0;36m__call__\u001b[1;34m(self, inputs, **kwargs)\u001b[0m\n\u001b[0;32m    429\u001b[0m                                          \u001b[1;34m'You can build it manually via: '\u001b[0m\u001b[1;33m\u001b[0m\u001b[1;33m\u001b[0m\u001b[0m\n\u001b[0;32m    430\u001b[0m                                          '`layer.build(batch_input_shape)`')\n\u001b[1;32m--> 431\u001b[1;33m                 \u001b[0mself\u001b[0m\u001b[1;33m.\u001b[0m\u001b[0mbuild\u001b[0m\u001b[1;33m(\u001b[0m\u001b[0munpack_singleton\u001b[0m\u001b[1;33m(\u001b[0m\u001b[0minput_shapes\u001b[0m\u001b[1;33m)\u001b[0m\u001b[1;33m)\u001b[0m\u001b[1;33m\u001b[0m\u001b[1;33m\u001b[0m\u001b[0m\n\u001b[0m\u001b[0;32m    432\u001b[0m                 \u001b[0mself\u001b[0m\u001b[1;33m.\u001b[0m\u001b[0mbuilt\u001b[0m \u001b[1;33m=\u001b[0m \u001b[1;32mTrue\u001b[0m\u001b[1;33m\u001b[0m\u001b[1;33m\u001b[0m\u001b[0m\n\u001b[0;32m    433\u001b[0m \u001b[1;33m\u001b[0m\u001b[0m\n",
      "\u001b[1;32mC:\\APP\\Anaconda3\\lib\\site-packages\\keras\\layers\\merge.py\u001b[0m in \u001b[0;36mbuild\u001b[1;34m(self, input_shape)\u001b[0m\n\u001b[0;32m     89\u001b[0m                 \u001b[0mshape\u001b[0m \u001b[1;33m=\u001b[0m \u001b[0minput_shape\u001b[0m\u001b[1;33m[\u001b[0m\u001b[0mi\u001b[0m\u001b[1;33m]\u001b[0m\u001b[1;33m[\u001b[0m\u001b[1;36m1\u001b[0m\u001b[1;33m:\u001b[0m\u001b[1;33m]\u001b[0m\u001b[1;33m\u001b[0m\u001b[1;33m\u001b[0m\u001b[0m\n\u001b[0;32m     90\u001b[0m             output_shape = self._compute_elemwise_op_output_shape(output_shape,\n\u001b[1;32m---> 91\u001b[1;33m                                                                   shape)\n\u001b[0m\u001b[0;32m     92\u001b[0m         \u001b[1;31m# If the inputs have different ranks, we have to reshape them\u001b[0m\u001b[1;33m\u001b[0m\u001b[1;33m\u001b[0m\u001b[1;33m\u001b[0m\u001b[0m\n\u001b[0;32m     93\u001b[0m         \u001b[1;31m# to make them broadcastable.\u001b[0m\u001b[1;33m\u001b[0m\u001b[1;33m\u001b[0m\u001b[1;33m\u001b[0m\u001b[0m\n",
      "\u001b[1;32mC:\\APP\\Anaconda3\\lib\\site-packages\\keras\\layers\\merge.py\u001b[0m in \u001b[0;36m_compute_elemwise_op_output_shape\u001b[1;34m(self, shape1, shape2)\u001b[0m\n\u001b[0;32m     59\u001b[0m                     raise ValueError('Operands could not be broadcast '\n\u001b[0;32m     60\u001b[0m                                      \u001b[1;34m'together with shapes '\u001b[0m \u001b[1;33m+\u001b[0m\u001b[1;33m\u001b[0m\u001b[1;33m\u001b[0m\u001b[0m\n\u001b[1;32m---> 61\u001b[1;33m                                      str(shape1) + ' ' + str(shape2))\n\u001b[0m\u001b[0;32m     62\u001b[0m                 \u001b[0moutput_shape\u001b[0m\u001b[1;33m.\u001b[0m\u001b[0mappend\u001b[0m\u001b[1;33m(\u001b[0m\u001b[0mi\u001b[0m\u001b[1;33m)\u001b[0m\u001b[1;33m\u001b[0m\u001b[1;33m\u001b[0m\u001b[0m\n\u001b[0;32m     63\u001b[0m         \u001b[1;32mreturn\u001b[0m \u001b[0mtuple\u001b[0m\u001b[1;33m(\u001b[0m\u001b[0moutput_shape\u001b[0m\u001b[1;33m)\u001b[0m\u001b[1;33m\u001b[0m\u001b[1;33m\u001b[0m\u001b[0m\n",
      "\u001b[1;31mValueError\u001b[0m: Operands could not be broadcast together with shapes (6, 6, 512) (8, 8, 512)"
     ],
     "ename": "ValueError",
     "evalue": "Operands could not be broadcast together with shapes (6, 6, 512) (8, 8, 512)",
     "output_type": "error"
    }
   ],
   "source": [
    "model = ResNet50(input_shape=(64,64,3), classes=6)\n",
    "model.compile(optimizer='adam', loss='categorical_crossentropy', metircs=['accuracy'])"
   ]
  },
  {
   "cell_type": "code",
   "execution_count": null,
   "metadata": {
    "pycharm": {
     "is_executing": false,
     "name": "#%%\n"
    }
   },
   "outputs": [],
   "source": [
    "\n"
   ]
  }
 ],
 "metadata": {
  "kernelspec": {
   "display_name": "Python 3",
   "language": "python",
   "name": "python3"
  },
  "language_info": {
   "codemirror_mode": {
    "name": "ipython",
    "version": 3
   },
   "file_extension": ".py",
   "mimetype": "text/x-python",
   "name": "python",
   "nbconvert_exporter": "python",
   "pygments_lexer": "ipython3",
   "version": "3.7.1"
  },
  "pycharm": {
   "stem_cell": {
    "cell_type": "raw",
    "source": [],
    "metadata": {
     "collapsed": false
    }
   }
  }
 },
 "nbformat": 4,
 "nbformat_minor": 1
}