{
 "cells": [
  {
   "cell_type": "code",
   "execution_count": 2,
   "metadata": {
    "collapsed": true,
    "pycharm": {
     "is_executing": false
    }
   },
   "outputs": [
    {
     "name": "stderr",
     "text": [
      "Using TensorFlow backend.\n"
     ],
     "output_type": "stream"
    }
   ],
   "source": [
    "import numpy as np\n",
    "from keras import layers\n",
    "from keras.layers import Input, Add, Dense, Activation, ZeroPadding2D, BatchNormalization, Flatten, Conv2D, \\\n",
    "    AveragePooling2D, MaxPool2D, GlobalAveragePooling2D\n",
    "from keras.models import Model, load_model\n",
    "from  keras.preprocessing import image\n",
    "from keras.utils import layer_utils\n",
    "from keras.utils.data_utils import get_file\n",
    "from keras_applications.imagenet_utils import preprocess_input\n",
    "import pydot\n",
    "from IPython.display import SVG\n",
    "from keras.utils.vis_utils import model_to_dot\n",
    "from keras.utils import plot_model\n",
    "from resnets_utils import *\n",
    "from keras.initializers import glorot_uniform\n",
    "import scipy.misc\n",
    "from matplotlib.pyplot import imshow\n",
    "%matplotlib inline\n",
    "\n",
    "import keras.backend as K\n",
    "K.set_image_data_format('channels_last')\n",
    "K.set_learning_phase(1)"
   ]
  },
  {
   "cell_type": "code",
   "execution_count": 3,
   "outputs": [],
   "source": [
    "def identify_block(X, f, filters, stage, block):\n",
    "\t\n",
    "\tconv_name_base = 'res' + str(stage) + block + 'branch'\n",
    "\tbn_name_base = 'bn' + str(stage) + block + 'branch'\n",
    "\t\n",
    "\tF1, F2, F3 = filters\n",
    "\t\n",
    "\tX_shortcut = X\n",
    "\t\n",
    "\tX = Conv2D(filters=F1, kernel_size=(1,1), strides=(1,1), padding='valid', name=conv_name_base+'2a', \n",
    "               kernel_initializer=glorot_uniform(seed=0))(X)\n",
    "\tX = BatchNormalization(axis=3, name=bn_name_base + '2a')(X)\n",
    "\tX = Activation('relu')(X)\n",
    "\t\n",
    "\tX = Conv2D(filters=F2, kernel_size=(f,f), strides=(1,1), padding='same', name=conv_name_base+'2b', \n",
    "\t           kernel_initializer=glorot_uniform(seed=0))(X)\n",
    "\tX = BatchNormalization(axis=3, name=bn_name_base+'2b')(X)\n",
    "\tX = Activation('relu')(X)\n",
    "\t\n",
    "\tX = Conv2D(filters=F3, kernel_size=(1,1), strides=(1,1), padding='valid', name=conv_name_base+'2c',\n",
    "\t           kernel_initializer=glorot_uniform(seed=0))(X)\n",
    "\tX = BatchNormalization(axis=3, name=bn_name_base+'2c')(X)\n",
    "\t\n",
    "\tX = Add()([X, X_shortcut])\n",
    "\tX = Activation('relu')(X)\n",
    "\t\n",
    "\treturn X"
   ],
   "metadata": {
    "collapsed": false,
    "pycharm": {
     "name": "#%%\n",
     "is_executing": false
    }
   }
  },
  {
   "cell_type": "code",
   "execution_count": 4,
   "outputs": [
    {
     "name": "stdout",
     "text": [
      "WARNING:tensorflow:From C:\\APP\\Anaconda3\\lib\\site-packages\\tensorflow\\python\\framework\\op_def_library.py:263: colocate_with (from tensorflow.python.framework.ops) is deprecated and will be removed in a future version.\nInstructions for updating:\nColocations handled automatically by placer.\n",
      "[ 0.1971682 -0.         1.3561226  2.1713073 -0.         1.3324987]\n"
     ],
     "output_type": "stream"
    }
   ],
   "source": [
    "tf.reset_default_graph()\n",
    "\n",
    "with tf.Session() as test:\n",
    "\tnp.random.seed(1)\n",
    "\tA_prev = tf.placeholder('float', [3, 4, 4, 6])\n",
    "\tX = np.random.randn(3,4,4,6)\n",
    "\tA = identify_block(A_prev, f=2, filters=[2,4,6], stage=1, block='a')\n",
    "\ttest.run(tf.global_variables_initializer())\n",
    "\tout = test.run([A], feed_dict={A_prev:X, K.learning_phase():0})\n",
    "\tprint(str(out[0][1][1][0]))"
   ],
   "metadata": {
    "collapsed": false,
    "pycharm": {
     "name": "#%%\n",
     "is_executing": false
    }
   }
  },
  {
   "cell_type": "code",
   "execution_count": 7,
   "outputs": [],
   "source": [
    "def convolutional_block(X, f, filters, stage, block, s=2):\n",
    "\t\n",
    "\tconv_name_base = 'res' + str(stage) + block + '_branch'\n",
    "\tbn_name_base = 'bn' + str(stage) + block + '_branch'\n",
    "\t\n",
    "\tF1, F2, F3 = filters\n",
    "\t\n",
    "\tX_shortcut = X\n",
    "\t########## MAIN PATH ###############\n",
    "\t\n",
    "\tX = Conv2D(filters=F1, kernel_size=(1,1), strides=(s,s), name=conv_name_base+'2a', \n",
    "\t           kernel_initializer=glorot_uniform(seed=0))(X)\n",
    "\tX = BatchNormalization(axis=3, name=bn_name_base+'2a')(X)\n",
    "\tX = Activation('relu')(X)\n",
    "\t\n",
    "\tX = Conv2D(filters=F2, kernel_size=(f,f), strides=(1,1), name=conv_name_base+'2b',\n",
    "\t           kernel_initializer=glorot_uniform(seed=0))(X)\n",
    "\tX = BatchNormalization(axis=3, name=bn_name_base+'2b')(X)\n",
    "\tX = Activation('relu')(X)\n",
    "\t\n",
    "\tX = Conv2D(filters=F3, kernel_size=(1,1), strides=(s,s), name=conv_name_base+'2c',\n",
    "\t           kernel_initializer=glorot_uniform(seed=0))(X)\n",
    "\tX = BatchNormalization(axis=3, name=bn_name_base+'2c')(X)\n",
    "\t\n",
    "\tX_shortcut = Conv2D(filters=F3, kernel_size=(1,1), strides=(s,s), name=conv_name_base+'1',\n",
    "\t                    kernel_initializer=glorot_uniform(seed=0))(X_shortcut)\n",
    "\tX_shortcut = BatchNormalization(axis=3, name=bn_name_base+'1')(X_shortcut)\n",
    "\t\n",
    "\tX = Add()([X, X_shortcut])\n",
    "\tX = Activation('relu')(X)\n",
    "\t\n",
    "\treturn X\n",
    "\t"
   ],
   "metadata": {
    "collapsed": false,
    "pycharm": {
     "name": "#%%\n",
     "is_executing": false
    }
   }
  },
  {
   "cell_type": "code",
   "execution_count": 8,
   "outputs": [
    {
     "name": "stdout",
     "text": [
      "[0.50418824 1.3419094  1.1175836  0.25036487 1.1973622  0.6871328 ]\n"
     ],
     "output_type": "stream"
    }
   ],
   "source": [
    "tf.reset_default_graph()\n",
    "\n",
    "with tf.Session() as test:\n",
    "\t\n",
    "\tnp.random.seed(1)\n",
    "\tA_prev = tf.placeholder('float', [3,4,4,6])\n",
    "\tX = np.random.randn(3,4,4,6)\n",
    "\tA = convolutional_block(A_prev, f=2, filters=[2,4,6], stage=1, block='a')\n",
    "\ttest.run(tf.global_variables_initializer())\n",
    "\tout = test.run([A], feed_dict={A_prev:X, K.learning_phase():0})\n",
    "\tprint(str(out[0][1][1][0]))"
   ],
   "metadata": {
    "collapsed": false,
    "pycharm": {
     "name": "#%%\n",
     "is_executing": false
    }
   }
  },
  {
   "cell_type": "code",
   "execution_count": 6,
   "outputs": [],
   "source": [
    "def ResNet50(input_shape=(64,64,3), classes=6):\n",
    "\t\n",
    "\tX_input = Input(input_shape)\n",
    "\t\n",
    "\tX = ZeroPadding2D((3,3))(X_input)\n",
    "\t\n",
    "\tX = Conv2D(filters=64, kernel_size=(7,7), name='conv1', kernel_initializer=glorot_uniform(seed=0))(X)\n",
    "\tX = BatchNormalization(axis=3, name='bn_conv1')(X)\n",
    "\tX = Activation('relu')(X)\n",
    "\tX = MaxPool2D((3,3), strides=(2,2))(X)\n",
    "\t\n",
    "\tX = convolutional_block(X, f=3, filters=[64,64,256], stage=2, block='a', s=1)\n",
    "\tX = identify_block(X, 3, [64,64,256], stage=2, block='b')\n",
    "\tX = identify_block(X, 3, [64, 64, 256], stage=2, block='c')\n",
    "\t\n",
    "\tX = convolutional_block()\n"
   ],
   "metadata": {
    "collapsed": false,
    "pycharm": {
     "name": "#%%\n",
     "is_executing": false
    }
   }
  }
 ],
 "metadata": {
  "language_info": {
   "codemirror_mode": {
    "name": "ipython",
    "version": 2
   },
   "file_extension": ".py",
   "mimetype": "text/x-python",
   "name": "python",
   "nbconvert_exporter": "python",
   "pygments_lexer": "ipython2",
   "version": "2.7.6"
  },
  "kernelspec": {
   "name": "python3",
   "language": "python",
   "display_name": "Python 3"
  },
  "pycharm": {
   "stem_cell": {
    "cell_type": "raw",
    "source": [],
    "metadata": {
     "collapsed": false
    }
   }
  }
 },
 "nbformat": 4,
 "nbformat_minor": 0
}