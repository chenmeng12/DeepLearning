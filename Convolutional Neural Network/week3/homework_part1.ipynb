{
 "cells": [
  {
   "cell_type": "code",
   "execution_count": 2,
   "metadata": {
    "collapsed": true,
    "pycharm": {
     "is_executing": false
    }
   },
   "outputs": [
    {
     "name": "stderr",
     "text": [
      "Using TensorFlow backend.\n"
     ],
     "output_type": "stream"
    }
   ],
   "source": [
    "import argparse\n",
    "import os\n",
    "import matplotlib.pyplot as plt\n",
    "from matplotlib.pyplot import imshow\n",
    "import scipy.io\n",
    "import scipy.misc\n",
    "import numpy as np\n",
    "import pandas as pd\n",
    "import PIL\n",
    "import tensorflow as tf\n",
    "from keras import backend as K\n",
    "from keras.layers import Input, Lambda, Conv2D\n",
    "from keras.models import load_model, Model\n",
    "\n",
    "from yad2k.models.keras_yolo import yolo_head, yolo_boxes_to_corners, preprocess_true_boxes, yolo_loss, yolo_body\n",
    "from yolo_utils import *"
   ]
  },
  {
   "cell_type": "code",
   "execution_count": 3,
   "outputs": [],
   "source": [
    "def yolo_filter_boxes(box_confidence, boxes, box_class_probs, threshold=.6):\n",
    "\t\"\"\"\n",
    "\tFilters YOLO boxes by thresholding on object and class confidence\n",
    "\t:param box_confidence: tensor of shape(19, 19, 5, 1)\n",
    "\t:param boxes: tensor of shape(19, 19, 5, 4)\n",
    "\t:param box_class_prob: tensor of shape(19,19,5,80)\n",
    "\t:param threshold: real value\n",
    "\t:return: \n",
    "\t\n",
    "\t\"\"\"\n",
    "\t#step1 compute box scores\n",
    "\tbox_scores = box_confidence * box_class_probs\n",
    "\t\n",
    "\t#step2: Find the box_classes thanks to to max box_scores, keep track of the corresponding score\n",
    "\tbox_classes = K.argmax(box_scores, axis=-1)\n",
    "\tbox_class_scores = K.max(box_scores, axis=-1, keepdims=False)\n",
    "\t\n",
    "\t#step3: Create a filter mask based on \"box_class_scores\" by using \"threshold\". The mask should\n",
    "\t# have the same dimension as box_class_scores, and be True for the boxex you want to keep\n",
    "\tfiltering_mask = box_class_scores >= threshold\n",
    "\t\n",
    "\t# Step4: Apply the mask to socres, boxes and classes\n",
    "\tscores = tf.boolean_mask(box_class_scores, filtering_mask)\n",
    "\tboxes = tf.boolean_mask(boxes, filtering_mask)\n",
    "\tclasses = tf.boolean_mask(box_classes, filtering_mask)\n",
    "\t\n",
    "\treturn scores, boxes, classes\n",
    "\t"
   ],
   "metadata": {
    "collapsed": false,
    "pycharm": {
     "name": "#%%\n",
     "is_executing": false
    }
   }
  },
  {
   "cell_type": "code",
   "execution_count": 4,
   "outputs": [
    {
     "name": "stdout",
     "text": [
      "10.750582\n[ 8.426533   3.2713668 -0.5313436 -4.9413733]\n7\n(?,)\n(?, 4)\n(?,)\n"
     ],
     "output_type": "stream"
    }
   ],
   "source": [
    "with tf.Session() as sess:\n",
    "\tbox_confidence = tf.random_normal([19,19,5,1], mean=1, stddev=4, seed=1)\n",
    "\tboxes = tf.random_normal([19,19,5,4], mean=1, stddev=4, seed=1)\n",
    "\tbox_class_probs = tf.random_normal([19,19,5,80], mean=1, stddev=4, seed=1)\n",
    "\tscores, boxes, classes = yolo_filter_boxes(box_confidence, boxes, box_class_probs,threshold=0.5)\n",
    "\tprint(str(scores[2].eval()))\n",
    "\tprint(str(boxes[2].eval()))\n",
    "\tprint(str(classes[2].eval()))\n",
    "\tprint(str(scores.shape))\n",
    "\tprint(str(boxes.shape))\n",
    "\tprint(str(classes.shape))\n",
    "\t\n",
    "\tsess.close()"
   ],
   "metadata": {
    "collapsed": false,
    "pycharm": {
     "name": "#%%\n",
     "is_executing": false
    }
   }
  },
  {
   "cell_type": "code",
   "execution_count": 5,
   "outputs": [],
   "source": [
    "def iou(box1, box2):\n",
    "\t\"\"\"\n",
    "\tcomput iou\n",
    "\t:param box1: tuple, first box,(x1, y1, x2, y2)\n",
    "\t:param box2: tuple, second box, (x1, y1, x2, y2)\n",
    "\t:return: iou float\n",
    "\t\"\"\"\n",
    "\t#step1: calculate the (y1, x1,y2,x2),inter_area\n",
    "\txi1 = max(box1[0], box2[0])\n",
    "\tyi1 = max(box1[1], box2[1])\n",
    "\txi2 = min(box1[2], box2[2])\n",
    "\tyi2 = min(box1[3], box2[3])\n",
    "\tinter_area = (yi2-yi1) * (xi2-xi1)\n",
    "\t\n",
    "\t#step2: Calculate the Union area by using Formula: Union(A,B)=A+B-Inter(A,B)\n",
    "\tbox1_area = (box1[3]-box1[1]) * (box1[2]-box1[0])\n",
    "\tbox2_area = (box2[3]-box2[1]) * (box2[2]-box2[0])\n",
    "\tunion_area = box1_area + box2_area - inter_area\n",
    "\t\n",
    "\t#step3: Calculate the IoU\n",
    "\tiou = inter_area / union_area\n",
    "\t\n",
    "\treturn iou"
   ],
   "metadata": {
    "collapsed": false,
    "pycharm": {
     "name": "#%%\n",
     "is_executing": false
    }
   }
  },
  {
   "cell_type": "code",
   "execution_count": 6,
   "outputs": [
    {
     "name": "stdout",
     "text": [
      "iou=0.14285714285714285\n"
     ],
     "output_type": "stream"
    }
   ],
   "source": [
    "box1 = (2,1,4,3)\n",
    "box2 = (1,2,3,4)\n",
    "print('iou='+str(iou(box1, box2)))\n",
    "\n"
   ],
   "metadata": {
    "collapsed": false,
    "pycharm": {
     "name": "#%%\n",
     "is_executing": false
    }
   }
  },
  {
   "cell_type": "code",
   "execution_count": 7,
   "outputs": [],
   "source": [
    "def yolo_non_max_suppression(scores, boxes, classes, max_boxes=10, iou_threshold=0.5):\n",
    "\t\"\"\"\n",
    "\tApplies Non-max suppression to set of boxes\n",
    "\t:param scores: tensor of shape(None,) output of yolo_fileter_boxes()\n",
    "\t:param boxes: tensor of shape(None,) output of yolo_fileter_boxes() that have been scaled\n",
    "\tto the image size\n",
    "\t:param classes: tensor of shape(None,),output of yolo_filter_boxes()\n",
    "\t:param max_boxes: integer, maximum number of predict boxes you`d like\n",
    "\t:param iou_threshold: real_value, \"intersection over union\" threshold for NMS filtering\n",
    "\t:return: \n",
    "\tscores:tensor of shape(,None), predicted score for each box\n",
    "\tboxes:tensor of shape(,None), predicted box coordinates\n",
    "\tclasses:tensor of shape(,None), predicted class for each box\n",
    "\t\"\"\"\n",
    "\tmax_boxes_tensor = K.variable(max_boxes, dtype='int32')\n",
    "\tK.get_session().run(tf.variables_initializer([max_boxes_tensor]))\n",
    "\t\n",
    "\t#Use tf.image.non_max_suppression() to get the list of indices corresponding to boxes you keep\n",
    "\tnms_indices = tf.image.non_max_suppression(boxes, scores, max_boxes, iou_threshold)\n",
    "\t\n",
    "\t#Use K.gather() to select only nms_indices from scores, boxes and calsses\n",
    "\tscores = K.gather(scores, nms_indices)\n",
    "\tboxes = K.gather(boxes, nms_indices)\n",
    "\tclasses = K.gather(classes, nms_indices)\n",
    "\t\n",
    "\treturn scores, boxes, classes\n",
    "\t"
   ],
   "metadata": {
    "collapsed": false,
    "pycharm": {
     "name": "#%%\n",
     "is_executing": false
    }
   }
  },
  {
   "cell_type": "code",
   "execution_count": 8,
   "outputs": [
    {
     "name": "stdout",
     "text": [
      "WARNING:tensorflow:From C:\\APP\\Anaconda3\\lib\\site-packages\\tensorflow\\python\\framework\\op_def_library.py:263: colocate_with (from tensorflow.python.framework.ops) is deprecated and will be removed in a future version.\nInstructions for updating:\nColocations handled automatically by placer.\n",
      "6.938395\n[-5.299932    3.1379814   4.450367    0.95942086]\n-2.2452729",
      "\n(10,)\n(10, 4)",
      "\n(10,)\n"
     ],
     "output_type": "stream"
    }
   ],
   "source": [
    "with tf.Session() as test_b:\n",
    "\tscores = tf.random_normal([54,], mean=1, stddev=4, seed=1)\n",
    "\tboxes = tf.random_normal([54,4], mean=1, stddev=4, seed=1)\n",
    "\tclasses = tf.random_normal([54,], mean=1, stddev=4, seed=1)\n",
    "\tscores, boxes, classes = yolo_non_max_suppression(scores, boxes, classes)\n",
    "\tprint(str(scores[2].eval()))\n",
    "\tprint(str(boxes[2].eval()))\n",
    "\tprint(str(classes[2].eval()))\n",
    "\tprint(str(scores.eval().shape))\n",
    "\tprint(str(boxes.eval().shape))\n",
    "\tprint(str(classes.eval().shape))"
   ],
   "metadata": {
    "collapsed": false,
    "pycharm": {
     "name": "#%%\n",
     "is_executing": false
    }
   }
  },
  {
   "cell_type": "code",
   "execution_count": 9,
   "outputs": [],
   "source": [
    "def yolo_eval(yolo_outputs, image_shape=(720,180),max_boxes=10, score_threshold=0.6,\n",
    "              iou_threshold=0.5):\n",
    "\t\"\"\"\n",
    "\tConverts the outputs of YOLO encoding (a lot of boxes) to your predict boxes along with\n",
    "\ttheir scores, box coordinates and classes\n",
    "\t:param yolo_outputs: output of the encoding model(for image_shape of(608, 608, 3), contains 4 tensors\n",
    "\t:param image_shape:tensor of shape(2,) containing the input shape, in this notebook we use (608,608) \n",
    "\t:param max_boxes: integer, maximum number of predicted boxes you`d like\n",
    "\t:param score_threshold: real_value\n",
    "\t:param iou_threshole: real_value\n",
    "\t:return: \n",
    "\tscores -- tensor of shape(None,), predict score for each box\n",
    "\tboxes -- tensor of shape(None,4), predict box coordinates\n",
    "\tclasses -- tensor of shape(None,), predict class for each box\n",
    "\t\"\"\"\n",
    "\t#Retrieve outputs of the YOLO model\n",
    "\tbox_confidence, box_xy, box_wh, box_class_probs = yolo_outputs\n",
    "\t\n",
    "\t#Convert boxes to be ready for filtering functiong\n",
    "\tboxes = yolo_boxes_to_corners(box_xy, box_wh)\n",
    "\t\n",
    "\t#Use ont of the functions you`ve implemented to perform Score-filtering with \n",
    "\t# a threshold of score_threshold)\n",
    "\tscores, boxes, classes  = yolo_filter_boxes(box_confidence, boxes, box_class_probs, score_threshold)\n",
    "\t\n",
    "\t#Scale boxes back to original image shape.\n",
    "\tboxes = scale_boxes(boxes, image_shape)\n",
    "\t\n",
    "\t#Use one of the functions you`ve implemented to perform Non-max suppression with a threshold\n",
    "\t# of iou_threshold)\n",
    "\tscore, boxes, classes = yolo_non_max_suppression(scores, boxes, classes, max_boxes, iou_threshold)\n",
    "\t\n",
    "\treturn scores, boxes, classes\n",
    "\t"
   ],
   "metadata": {
    "collapsed": false,
    "pycharm": {
     "name": "#%%\n",
     "is_executing": false
    }
   }
  },
  {
   "cell_type": "code",
   "execution_count": 11,
   "outputs": [
    {
     "traceback": [
      "\u001b[1;31m---------------------------------------------------------------------------\u001b[0m",
      "\u001b[1;31mValueError\u001b[0m                                Traceback (most recent call last)",
      "\u001b[1;32mC:\\APP\\Anaconda3\\lib\\site-packages\\tensorflow\\python\\framework\\op_def_library.py\u001b[0m in \u001b[0;36m_apply_op_helper\u001b[1;34m(self, op_type_name, name, **keywords)\u001b[0m\n\u001b[0;32m    510\u001b[0m                 \u001b[0mas_ref\u001b[0m\u001b[1;33m=\u001b[0m\u001b[0minput_arg\u001b[0m\u001b[1;33m.\u001b[0m\u001b[0mis_ref\u001b[0m\u001b[1;33m,\u001b[0m\u001b[1;33m\u001b[0m\u001b[1;33m\u001b[0m\u001b[0m\n\u001b[1;32m--> 511\u001b[1;33m                 preferred_dtype=default_dtype)\n\u001b[0m\u001b[0;32m    512\u001b[0m           \u001b[1;32mexcept\u001b[0m \u001b[0mTypeError\u001b[0m \u001b[1;32mas\u001b[0m \u001b[0merr\u001b[0m\u001b[1;33m:\u001b[0m\u001b[1;33m\u001b[0m\u001b[1;33m\u001b[0m\u001b[0m\n",
      "\u001b[1;32mC:\\APP\\Anaconda3\\lib\\site-packages\\tensorflow\\python\\framework\\ops.py\u001b[0m in \u001b[0;36minternal_convert_to_tensor\u001b[1;34m(value, dtype, name, as_ref, preferred_dtype, ctx, accept_symbolic_tensors)\u001b[0m\n\u001b[0;32m   1174\u001b[0m     \u001b[1;32mif\u001b[0m \u001b[0mret\u001b[0m \u001b[1;32mis\u001b[0m \u001b[1;32mNone\u001b[0m\u001b[1;33m:\u001b[0m\u001b[1;33m\u001b[0m\u001b[1;33m\u001b[0m\u001b[0m\n\u001b[1;32m-> 1175\u001b[1;33m       \u001b[0mret\u001b[0m \u001b[1;33m=\u001b[0m \u001b[0mconversion_func\u001b[0m\u001b[1;33m(\u001b[0m\u001b[0mvalue\u001b[0m\u001b[1;33m,\u001b[0m \u001b[0mdtype\u001b[0m\u001b[1;33m=\u001b[0m\u001b[0mdtype\u001b[0m\u001b[1;33m,\u001b[0m \u001b[0mname\u001b[0m\u001b[1;33m=\u001b[0m\u001b[0mname\u001b[0m\u001b[1;33m,\u001b[0m \u001b[0mas_ref\u001b[0m\u001b[1;33m=\u001b[0m\u001b[0mas_ref\u001b[0m\u001b[1;33m)\u001b[0m\u001b[1;33m\u001b[0m\u001b[1;33m\u001b[0m\u001b[0m\n\u001b[0m\u001b[0;32m   1176\u001b[0m \u001b[1;33m\u001b[0m\u001b[0m\n",
      "\u001b[1;32mC:\\APP\\Anaconda3\\lib\\site-packages\\tensorflow\\python\\framework\\ops.py\u001b[0m in \u001b[0;36m_TensorTensorConversionFunction\u001b[1;34m(t, dtype, name, as_ref)\u001b[0m\n\u001b[0;32m    976\u001b[0m         \u001b[1;34m\"Tensor conversion requested dtype %s for Tensor with dtype %s: %r\"\u001b[0m \u001b[1;33m%\u001b[0m\u001b[1;33m\u001b[0m\u001b[1;33m\u001b[0m\u001b[0m\n\u001b[1;32m--> 977\u001b[1;33m         (dtype.name, t.dtype.name, str(t)))\n\u001b[0m\u001b[0;32m    978\u001b[0m   \u001b[1;32mreturn\u001b[0m \u001b[0mt\u001b[0m\u001b[1;33m\u001b[0m\u001b[1;33m\u001b[0m\u001b[0m\n",
      "\u001b[1;31mValueError\u001b[0m: Tensor conversion requested dtype float32 for Tensor with dtype int32: 'Tensor(\"Reshape:0\", shape=(1, 4), dtype=int32)'",
      "\nDuring handling of the above exception, another exception occurred:\n",
      "\u001b[1;31mTypeError\u001b[0m                                 Traceback (most recent call last)",
      "\u001b[1;32m<ipython-input-11-4ae8cedc150e>\u001b[0m in \u001b[0;36m<module>\u001b[1;34m\u001b[0m\n\u001b[0;32m      5\u001b[0m                         \u001b[0mtf\u001b[0m\u001b[1;33m.\u001b[0m\u001b[0mrandom_normal\u001b[0m\u001b[1;33m(\u001b[0m\u001b[1;33m[\u001b[0m\u001b[1;36m19\u001b[0m\u001b[1;33m,\u001b[0m\u001b[1;36m19\u001b[0m\u001b[1;33m,\u001b[0m\u001b[1;36m5\u001b[0m\u001b[1;33m,\u001b[0m\u001b[1;36m2\u001b[0m\u001b[1;33m]\u001b[0m\u001b[1;33m,\u001b[0m \u001b[0mmean\u001b[0m\u001b[1;33m=\u001b[0m\u001b[1;36m1\u001b[0m\u001b[1;33m,\u001b[0m \u001b[0mstddev\u001b[0m\u001b[1;33m=\u001b[0m\u001b[1;36m4\u001b[0m\u001b[1;33m,\u001b[0m \u001b[0mseed\u001b[0m\u001b[1;33m=\u001b[0m\u001b[1;36m1\u001b[0m\u001b[1;33m)\u001b[0m\u001b[1;33m,\u001b[0m\u001b[1;33m\u001b[0m\u001b[1;33m\u001b[0m\u001b[0m\n\u001b[0;32m      6\u001b[0m \t                tf.random_normal([19,19,5,80], mean=1, stddev=4, seed=1),)\n\u001b[1;32m----> 7\u001b[1;33m         \u001b[0mscores\u001b[0m\u001b[1;33m,\u001b[0m \u001b[0mboxes\u001b[0m\u001b[1;33m,\u001b[0m \u001b[0mclasses\u001b[0m \u001b[1;33m=\u001b[0m \u001b[0myolo_eval\u001b[0m\u001b[1;33m(\u001b[0m\u001b[0myolo_outputs\u001b[0m\u001b[1;33m)\u001b[0m\u001b[1;33m\u001b[0m\u001b[1;33m\u001b[0m\u001b[0m\n\u001b[0m\u001b[0;32m      8\u001b[0m         \u001b[0mprint\u001b[0m\u001b[1;33m(\u001b[0m\u001b[0mstr\u001b[0m\u001b[1;33m(\u001b[0m\u001b[0mscores\u001b[0m\u001b[1;33m[\u001b[0m\u001b[1;36m2\u001b[0m\u001b[1;33m]\u001b[0m\u001b[1;33m.\u001b[0m\u001b[0meval\u001b[0m\u001b[1;33m(\u001b[0m\u001b[1;33m)\u001b[0m\u001b[1;33m)\u001b[0m\u001b[1;33m)\u001b[0m\u001b[1;33m\u001b[0m\u001b[1;33m\u001b[0m\u001b[0m\n\u001b[0;32m      9\u001b[0m         \u001b[0mprint\u001b[0m\u001b[1;33m(\u001b[0m\u001b[0mstr\u001b[0m\u001b[1;33m(\u001b[0m\u001b[0mboxes\u001b[0m\u001b[1;33m[\u001b[0m\u001b[1;36m2\u001b[0m\u001b[1;33m]\u001b[0m\u001b[1;33m.\u001b[0m\u001b[0meval\u001b[0m\u001b[1;33m(\u001b[0m\u001b[1;33m)\u001b[0m\u001b[1;33m)\u001b[0m\u001b[1;33m)\u001b[0m\u001b[1;33m\u001b[0m\u001b[1;33m\u001b[0m\u001b[0m\n",
      "\u001b[1;32m<ipython-input-9-92ee4d4a4bd0>\u001b[0m in \u001b[0;36myolo_eval\u001b[1;34m(yolo_outputs, image_shape, max_boxes, score_threshold, iou_threshold)\u001b[0m\n\u001b[0;32m     26\u001b[0m \u001b[1;33m\u001b[0m\u001b[0m\n\u001b[0;32m     27\u001b[0m         \u001b[1;31m#Scale boxes back to original image shape.\u001b[0m\u001b[1;33m\u001b[0m\u001b[1;33m\u001b[0m\u001b[1;33m\u001b[0m\u001b[0m\n\u001b[1;32m---> 28\u001b[1;33m         \u001b[0mboxes\u001b[0m \u001b[1;33m=\u001b[0m \u001b[0mscale_boxes\u001b[0m\u001b[1;33m(\u001b[0m\u001b[0mboxes\u001b[0m\u001b[1;33m,\u001b[0m \u001b[0mimage_shape\u001b[0m\u001b[1;33m)\u001b[0m\u001b[1;33m\u001b[0m\u001b[1;33m\u001b[0m\u001b[0m\n\u001b[0m\u001b[0;32m     29\u001b[0m \u001b[1;33m\u001b[0m\u001b[0m\n\u001b[0;32m     30\u001b[0m         \u001b[1;31m#Use one of the functions you`ve implemented to perform Non-max suppression with a threshold\u001b[0m\u001b[1;33m\u001b[0m\u001b[1;33m\u001b[0m\u001b[1;33m\u001b[0m\u001b[0m\n",
      "\u001b[1;32m~\\Desktop\\deeplearning\\Convolutional Neural Network\\week3\\yolo_utils.py\u001b[0m in \u001b[0;36mscale_boxes\u001b[1;34m(boxes, image_shape)\u001b[0m\n\u001b[0;32m     36\u001b[0m     \u001b[0mimage_dims\u001b[0m \u001b[1;33m=\u001b[0m \u001b[0mK\u001b[0m\u001b[1;33m.\u001b[0m\u001b[0mstack\u001b[0m\u001b[1;33m(\u001b[0m\u001b[1;33m[\u001b[0m\u001b[0mheight\u001b[0m\u001b[1;33m,\u001b[0m \u001b[0mwidth\u001b[0m\u001b[1;33m,\u001b[0m \u001b[0mheight\u001b[0m\u001b[1;33m,\u001b[0m \u001b[0mwidth\u001b[0m\u001b[1;33m]\u001b[0m\u001b[1;33m)\u001b[0m\u001b[1;33m\u001b[0m\u001b[1;33m\u001b[0m\u001b[0m\n\u001b[0;32m     37\u001b[0m     \u001b[0mimage_dims\u001b[0m \u001b[1;33m=\u001b[0m \u001b[0mK\u001b[0m\u001b[1;33m.\u001b[0m\u001b[0mreshape\u001b[0m\u001b[1;33m(\u001b[0m\u001b[0mimage_dims\u001b[0m\u001b[1;33m,\u001b[0m \u001b[1;33m[\u001b[0m\u001b[1;36m1\u001b[0m\u001b[1;33m,\u001b[0m \u001b[1;36m4\u001b[0m\u001b[1;33m]\u001b[0m\u001b[1;33m)\u001b[0m\u001b[1;33m\u001b[0m\u001b[1;33m\u001b[0m\u001b[0m\n\u001b[1;32m---> 38\u001b[1;33m     \u001b[0mboxes\u001b[0m \u001b[1;33m=\u001b[0m \u001b[0mboxes\u001b[0m \u001b[1;33m*\u001b[0m \u001b[0mimage_dims\u001b[0m\u001b[1;33m\u001b[0m\u001b[1;33m\u001b[0m\u001b[0m\n\u001b[0m\u001b[0;32m     39\u001b[0m     \u001b[1;32mreturn\u001b[0m \u001b[0mboxes\u001b[0m\u001b[1;33m\u001b[0m\u001b[1;33m\u001b[0m\u001b[0m\n\u001b[0;32m     40\u001b[0m \u001b[1;33m\u001b[0m\u001b[0m\n",
      "\u001b[1;32mC:\\APP\\Anaconda3\\lib\\site-packages\\tensorflow\\python\\ops\\math_ops.py\u001b[0m in \u001b[0;36mbinary_op_wrapper\u001b[1;34m(x, y)\u001b[0m\n\u001b[0;32m    810\u001b[0m     \u001b[1;32mwith\u001b[0m \u001b[0mops\u001b[0m\u001b[1;33m.\u001b[0m\u001b[0mname_scope\u001b[0m\u001b[1;33m(\u001b[0m\u001b[1;32mNone\u001b[0m\u001b[1;33m,\u001b[0m \u001b[0mop_name\u001b[0m\u001b[1;33m,\u001b[0m \u001b[1;33m[\u001b[0m\u001b[0mx\u001b[0m\u001b[1;33m,\u001b[0m \u001b[0my\u001b[0m\u001b[1;33m]\u001b[0m\u001b[1;33m)\u001b[0m \u001b[1;32mas\u001b[0m \u001b[0mname\u001b[0m\u001b[1;33m:\u001b[0m\u001b[1;33m\u001b[0m\u001b[1;33m\u001b[0m\u001b[0m\n\u001b[0;32m    811\u001b[0m       \u001b[1;32mif\u001b[0m \u001b[0misinstance\u001b[0m\u001b[1;33m(\u001b[0m\u001b[0mx\u001b[0m\u001b[1;33m,\u001b[0m \u001b[0mops\u001b[0m\u001b[1;33m.\u001b[0m\u001b[0mTensor\u001b[0m\u001b[1;33m)\u001b[0m \u001b[1;32mand\u001b[0m \u001b[0misinstance\u001b[0m\u001b[1;33m(\u001b[0m\u001b[0my\u001b[0m\u001b[1;33m,\u001b[0m \u001b[0mops\u001b[0m\u001b[1;33m.\u001b[0m\u001b[0mTensor\u001b[0m\u001b[1;33m)\u001b[0m\u001b[1;33m:\u001b[0m\u001b[1;33m\u001b[0m\u001b[1;33m\u001b[0m\u001b[0m\n\u001b[1;32m--> 812\u001b[1;33m         \u001b[1;32mreturn\u001b[0m \u001b[0mfunc\u001b[0m\u001b[1;33m(\u001b[0m\u001b[0mx\u001b[0m\u001b[1;33m,\u001b[0m \u001b[0my\u001b[0m\u001b[1;33m,\u001b[0m \u001b[0mname\u001b[0m\u001b[1;33m=\u001b[0m\u001b[0mname\u001b[0m\u001b[1;33m)\u001b[0m\u001b[1;33m\u001b[0m\u001b[1;33m\u001b[0m\u001b[0m\n\u001b[0m\u001b[0;32m    813\u001b[0m       \u001b[1;32melif\u001b[0m \u001b[1;32mnot\u001b[0m \u001b[0misinstance\u001b[0m\u001b[1;33m(\u001b[0m\u001b[0my\u001b[0m\u001b[1;33m,\u001b[0m \u001b[0msparse_tensor\u001b[0m\u001b[1;33m.\u001b[0m\u001b[0mSparseTensor\u001b[0m\u001b[1;33m)\u001b[0m\u001b[1;33m:\u001b[0m\u001b[1;33m\u001b[0m\u001b[1;33m\u001b[0m\u001b[0m\n\u001b[0;32m    814\u001b[0m         \u001b[1;32mtry\u001b[0m\u001b[1;33m:\u001b[0m\u001b[1;33m\u001b[0m\u001b[1;33m\u001b[0m\u001b[0m\n",
      "\u001b[1;32mC:\\APP\\Anaconda3\\lib\\site-packages\\tensorflow\\python\\ops\\math_ops.py\u001b[0m in \u001b[0;36m_mul_dispatch\u001b[1;34m(x, y, name)\u001b[0m\n\u001b[0;32m   1076\u001b[0m   \u001b[0mis_tensor_y\u001b[0m \u001b[1;33m=\u001b[0m \u001b[0misinstance\u001b[0m\u001b[1;33m(\u001b[0m\u001b[0my\u001b[0m\u001b[1;33m,\u001b[0m \u001b[0mops\u001b[0m\u001b[1;33m.\u001b[0m\u001b[0mTensor\u001b[0m\u001b[1;33m)\u001b[0m\u001b[1;33m\u001b[0m\u001b[1;33m\u001b[0m\u001b[0m\n\u001b[0;32m   1077\u001b[0m   \u001b[1;32mif\u001b[0m \u001b[0mis_tensor_y\u001b[0m\u001b[1;33m:\u001b[0m\u001b[1;33m\u001b[0m\u001b[1;33m\u001b[0m\u001b[0m\n\u001b[1;32m-> 1078\u001b[1;33m     \u001b[1;32mreturn\u001b[0m \u001b[0mgen_math_ops\u001b[0m\u001b[1;33m.\u001b[0m\u001b[0mmul\u001b[0m\u001b[1;33m(\u001b[0m\u001b[0mx\u001b[0m\u001b[1;33m,\u001b[0m \u001b[0my\u001b[0m\u001b[1;33m,\u001b[0m \u001b[0mname\u001b[0m\u001b[1;33m=\u001b[0m\u001b[0mname\u001b[0m\u001b[1;33m)\u001b[0m\u001b[1;33m\u001b[0m\u001b[1;33m\u001b[0m\u001b[0m\n\u001b[0m\u001b[0;32m   1079\u001b[0m   \u001b[1;32melse\u001b[0m\u001b[1;33m:\u001b[0m\u001b[1;33m\u001b[0m\u001b[1;33m\u001b[0m\u001b[0m\n\u001b[0;32m   1080\u001b[0m     \u001b[1;32massert\u001b[0m \u001b[0misinstance\u001b[0m\u001b[1;33m(\u001b[0m\u001b[0my\u001b[0m\u001b[1;33m,\u001b[0m \u001b[0msparse_tensor\u001b[0m\u001b[1;33m.\u001b[0m\u001b[0mSparseTensor\u001b[0m\u001b[1;33m)\u001b[0m  \u001b[1;31m# Case: Dense * Sparse.\u001b[0m\u001b[1;33m\u001b[0m\u001b[1;33m\u001b[0m\u001b[0m\n",
      "\u001b[1;32mC:\\APP\\Anaconda3\\lib\\site-packages\\tensorflow\\python\\ops\\gen_math_ops.py\u001b[0m in \u001b[0;36mmul\u001b[1;34m(x, y, name)\u001b[0m\n\u001b[0;32m   5857\u001b[0m   \u001b[1;31m# Add nodes to the TensorFlow graph.\u001b[0m\u001b[1;33m\u001b[0m\u001b[1;33m\u001b[0m\u001b[1;33m\u001b[0m\u001b[0m\n\u001b[0;32m   5858\u001b[0m   _, _, _op = _op_def_lib._apply_op_helper(\n\u001b[1;32m-> 5859\u001b[1;33m         \"Mul\", x=x, y=y, name=name)\n\u001b[0m\u001b[0;32m   5860\u001b[0m   \u001b[0m_result\u001b[0m \u001b[1;33m=\u001b[0m \u001b[0m_op\u001b[0m\u001b[1;33m.\u001b[0m\u001b[0moutputs\u001b[0m\u001b[1;33m[\u001b[0m\u001b[1;33m:\u001b[0m\u001b[1;33m]\u001b[0m\u001b[1;33m\u001b[0m\u001b[1;33m\u001b[0m\u001b[0m\n\u001b[0;32m   5861\u001b[0m   \u001b[0m_inputs_flat\u001b[0m \u001b[1;33m=\u001b[0m \u001b[0m_op\u001b[0m\u001b[1;33m.\u001b[0m\u001b[0minputs\u001b[0m\u001b[1;33m\u001b[0m\u001b[1;33m\u001b[0m\u001b[0m\n",
      "\u001b[1;32mC:\\APP\\Anaconda3\\lib\\site-packages\\tensorflow\\python\\framework\\op_def_library.py\u001b[0m in \u001b[0;36m_apply_op_helper\u001b[1;34m(self, op_type_name, name, **keywords)\u001b[0m\n\u001b[0;32m    545\u001b[0m                   \u001b[1;34m\"%s type %s of argument '%s'.\"\u001b[0m \u001b[1;33m%\u001b[0m\u001b[1;33m\u001b[0m\u001b[1;33m\u001b[0m\u001b[0m\n\u001b[0;32m    546\u001b[0m                   (prefix, dtypes.as_dtype(attrs[input_arg.type_attr]).name,\n\u001b[1;32m--> 547\u001b[1;33m                    inferred_from[input_arg.type_attr]))\n\u001b[0m\u001b[0;32m    548\u001b[0m \u001b[1;33m\u001b[0m\u001b[0m\n\u001b[0;32m    549\u001b[0m           \u001b[0mtypes\u001b[0m \u001b[1;33m=\u001b[0m \u001b[1;33m[\u001b[0m\u001b[0mvalues\u001b[0m\u001b[1;33m.\u001b[0m\u001b[0mdtype\u001b[0m\u001b[1;33m]\u001b[0m\u001b[1;33m\u001b[0m\u001b[1;33m\u001b[0m\u001b[0m\n",
      "\u001b[1;31mTypeError\u001b[0m: Input 'y' of 'Mul' Op has type int32 that does not match type float32 of argument 'x'."
     ],
     "ename": "TypeError",
     "evalue": "Input 'y' of 'Mul' Op has type int32 that does not match type float32 of argument 'x'.",
     "output_type": "error"
    }
   ],
   "source": [
    "with tf.Session() as test_c:\n",
    "\tyolo_outputs = (tf.random_normal([19,19,5,1], mean=1, stddev=4, seed=1),\n",
    "\t                tf.random_normal([19,19,5,2], mean=1, stddev=4, seed=1),\n",
    "\t                tf.random_normal([19,19,5,2], mean=1, stddev=4, seed=1),\n",
    "\t                tf.random_normal([19,19,5,80], mean=1, stddev=4, seed=1),)\n",
    "\tscores, boxes, classes = yolo_eval(yolo_outputs)\n",
    "\tprint(str(scores[2].eval()))\n",
    "\tprint(str(boxes[2].eval()))\n",
    "\tprint(str(classes[2].eval()))\n",
    "\tprint(str(scores.eval().shape))\n",
    "\tprint(str(boxes.eval().shape))\n",
    "\tprint(str(classes.eval().shape))\n",
    "\t"
   ],
   "metadata": {
    "collapsed": false,
    "pycharm": {
     "name": "#%%\n",
     "is_executing": false
    }
   }
  },
  {
   "cell_type": "code",
   "execution_count": null,
   "outputs": [],
   "source": [
    "\n"
   ],
   "metadata": {
    "collapsed": false,
    "pycharm": {
     "name": "#%%\n"
    }
   }
  }
 ],
 "metadata": {
  "language_info": {
   "codemirror_mode": {
    "name": "ipython",
    "version": 2
   },
   "file_extension": ".py",
   "mimetype": "text/x-python",
   "name": "python",
   "nbconvert_exporter": "python",
   "pygments_lexer": "ipython2",
   "version": "2.7.6"
  },
  "kernelspec": {
   "name": "python3",
   "language": "python",
   "display_name": "Python 3"
  },
  "pycharm": {
   "stem_cell": {
    "cell_type": "raw",
    "source": [],
    "metadata": {
     "collapsed": false
    }
   }
  }
 },
 "nbformat": 4,
 "nbformat_minor": 0
}